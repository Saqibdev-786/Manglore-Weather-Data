{
 "cells": [
  {
   "cell_type": "markdown",
   "id": "a30e3ba2",
   "metadata": {},
   "source": [
    "### **Start**"
   ]
  },
  {
   "cell_type": "markdown",
   "id": "79f78b2b",
   "metadata": {},
   "source": [
    "Documentations of all the packages used:\n",
    "\n",
    "pandas: https://pandas.pydata.org/docs/#module-pandas\n",
    "\n",
    "numpy: https://numpy.org/doc/stable/\n",
    "\n",
    "matplotlib: https://matplotlib.org/stable/index.html\n",
    "\n",
    "seaborn: https://seaborn.pydata.org/tutorial.html\n",
    "\n",
    "openpyxl: So, that we can create excel file"
   ]
  },
  {
   "cell_type": "markdown",
   "id": "699d0944",
   "metadata": {},
   "source": [
    "Importing the packages for EDA"
   ]
  },
  {
   "cell_type": "code",
   "execution_count": 1,
   "id": "0f9bed28",
   "metadata": {},
   "outputs": [],
   "source": [
    "import pandas as pd\n",
    "import numpy as np\n",
    "import matplotlib.pyplot as plt\n",
    "import seaborn as sns\n",
    "import openpyxl\n",
    "import os\n",
    "import tempfile\n",
    "import shutil\n",
    "import filecmp"
   ]
  },
  {
   "cell_type": "markdown",
   "id": "3f73237d",
   "metadata": {},
   "source": [
    "**Load the Dataset**"
   ]
  },
  {
   "cell_type": "code",
   "execution_count": 2,
   "id": "b332ee79",
   "metadata": {},
   "outputs": [
    {
     "data": {
      "application/vnd.microsoft.datawrangler.viewer.v0+json": {
       "columns": [
        {
         "name": "index",
         "rawType": "int64",
         "type": "integer"
        },
        {
         "name": "msl",
         "rawType": "float64",
         "type": "float"
        },
        {
         "name": "sst",
         "rawType": "float64",
         "type": "float"
        },
        {
         "name": "u10",
         "rawType": "float64",
         "type": "float"
        },
        {
         "name": "v10",
         "rawType": "float64",
         "type": "float"
        },
        {
         "name": "ws",
         "rawType": "float64",
         "type": "float"
        },
        {
         "name": "t2m",
         "rawType": "float64",
         "type": "float"
        },
        {
         "name": "rh",
         "rawType": "float64",
         "type": "float"
        },
        {
         "name": "tp",
         "rawType": "float64",
         "type": "float"
        }
       ],
       "ref": "156d64f7-b74a-4268-8b9b-7fd1c0fdba37",
       "rows": [
        [
         "0",
         "101039.10958333332",
         "28.27259166666669",
         "1.03760402",
         "0.8960622183333333",
         "1.9398035663530997",
         "26.803985583333333",
         "73.88753774999999",
         "0.10395049956"
        ],
        [
         "1",
         "100965.89083333332",
         "28.272828333333354",
         "0.1944363837916667",
         "-0.2147394811666666",
         "1.141201894145055",
         "25.138508916666662",
         "83.93715341666667",
         "0.00143051146"
        ],
        [
         "2",
         "101071.94791666669",
         "28.27306666666669",
         "0.5586751546666667",
         "0.1707280437499999",
         "1.734704673272315",
         "26.27941875",
         "74.86358391666667",
         "0.1039504991"
        ],
        [
         "3",
         "101039.70291666668",
         "28.27330000000002",
         "0.8084119208333332",
         "-2.010219578333333",
         "2.62252405218047",
         "25.128417916666667",
         "84.04039358333334",
         "0.0"
        ],
        [
         "4",
         "101117.80208333331",
         "28.27353333333335",
         "0.7170906058333334",
         "0.7126223141666667",
         "2.1361534046890327",
         "26.743072583333333",
         "72.33074641666667",
         "0.0"
        ]
       ],
       "shape": {
        "columns": 8,
        "rows": 5
       }
      },
      "text/html": [
       "<div>\n",
       "<style scoped>\n",
       "    .dataframe tbody tr th:only-of-type {\n",
       "        vertical-align: middle;\n",
       "    }\n",
       "\n",
       "    .dataframe tbody tr th {\n",
       "        vertical-align: top;\n",
       "    }\n",
       "\n",
       "    .dataframe thead th {\n",
       "        text-align: right;\n",
       "    }\n",
       "</style>\n",
       "<table border=\"1\" class=\"dataframe\">\n",
       "  <thead>\n",
       "    <tr style=\"text-align: right;\">\n",
       "      <th></th>\n",
       "      <th>msl</th>\n",
       "      <th>sst</th>\n",
       "      <th>u10</th>\n",
       "      <th>v10</th>\n",
       "      <th>ws</th>\n",
       "      <th>t2m</th>\n",
       "      <th>rh</th>\n",
       "      <th>tp</th>\n",
       "    </tr>\n",
       "  </thead>\n",
       "  <tbody>\n",
       "    <tr>\n",
       "      <th>0</th>\n",
       "      <td>101039.109583</td>\n",
       "      <td>28.272592</td>\n",
       "      <td>1.037604</td>\n",
       "      <td>0.896062</td>\n",
       "      <td>1.939804</td>\n",
       "      <td>26.803986</td>\n",
       "      <td>73.887538</td>\n",
       "      <td>0.103950</td>\n",
       "    </tr>\n",
       "    <tr>\n",
       "      <th>1</th>\n",
       "      <td>100965.890833</td>\n",
       "      <td>28.272828</td>\n",
       "      <td>0.194436</td>\n",
       "      <td>-0.214739</td>\n",
       "      <td>1.141202</td>\n",
       "      <td>25.138509</td>\n",
       "      <td>83.937153</td>\n",
       "      <td>0.001431</td>\n",
       "    </tr>\n",
       "    <tr>\n",
       "      <th>2</th>\n",
       "      <td>101071.947917</td>\n",
       "      <td>28.273067</td>\n",
       "      <td>0.558675</td>\n",
       "      <td>0.170728</td>\n",
       "      <td>1.734705</td>\n",
       "      <td>26.279419</td>\n",
       "      <td>74.863584</td>\n",
       "      <td>0.103950</td>\n",
       "    </tr>\n",
       "    <tr>\n",
       "      <th>3</th>\n",
       "      <td>101039.702917</td>\n",
       "      <td>28.273300</td>\n",
       "      <td>0.808412</td>\n",
       "      <td>-2.010220</td>\n",
       "      <td>2.622524</td>\n",
       "      <td>25.128418</td>\n",
       "      <td>84.040394</td>\n",
       "      <td>0.000000</td>\n",
       "    </tr>\n",
       "    <tr>\n",
       "      <th>4</th>\n",
       "      <td>101117.802083</td>\n",
       "      <td>28.273533</td>\n",
       "      <td>0.717091</td>\n",
       "      <td>0.712622</td>\n",
       "      <td>2.136153</td>\n",
       "      <td>26.743073</td>\n",
       "      <td>72.330746</td>\n",
       "      <td>0.000000</td>\n",
       "    </tr>\n",
       "  </tbody>\n",
       "</table>\n",
       "</div>"
      ],
      "text/plain": [
       "             msl        sst       u10       v10        ws        t2m  \\\n",
       "0  101039.109583  28.272592  1.037604  0.896062  1.939804  26.803986   \n",
       "1  100965.890833  28.272828  0.194436 -0.214739  1.141202  25.138509   \n",
       "2  101071.947917  28.273067  0.558675  0.170728  1.734705  26.279419   \n",
       "3  101039.702917  28.273300  0.808412 -2.010220  2.622524  25.128418   \n",
       "4  101117.802083  28.273533  0.717091  0.712622  2.136153  26.743073   \n",
       "\n",
       "          rh        tp  \n",
       "0  73.887538  0.103950  \n",
       "1  83.937153  0.001431  \n",
       "2  74.863584  0.103950  \n",
       "3  84.040394  0.000000  \n",
       "4  72.330746  0.000000  "
      ]
     },
     "execution_count": 2,
     "metadata": {},
     "output_type": "execute_result"
    }
   ],
   "source": [
    "df = pd.read_csv(\"../data/weather.csv\") \n",
    "df.head()"
   ]
  },
  {
   "cell_type": "markdown",
   "id": "95a07b09",
   "metadata": {},
   "source": [
    "**Overview of the Dataset**"
   ]
  },
  {
   "cell_type": "code",
   "execution_count": 3,
   "id": "6463505d",
   "metadata": {},
   "outputs": [
    {
     "name": "stdout",
     "output_type": "stream",
     "text": [
      "<class 'pandas.core.frame.DataFrame'>\n",
      "RangeIndex: 14610 entries, 0 to 14609\n",
      "Data columns (total 8 columns):\n",
      " #   Column  Non-Null Count  Dtype  \n",
      "---  ------  --------------  -----  \n",
      " 0   msl     14610 non-null  float64\n",
      " 1   sst     14610 non-null  float64\n",
      " 2   u10     14610 non-null  float64\n",
      " 3   v10     14610 non-null  float64\n",
      " 4   ws      14610 non-null  float64\n",
      " 5   t2m     14610 non-null  float64\n",
      " 6   rh      14610 non-null  float64\n",
      " 7   tp      14610 non-null  float64\n",
      "dtypes: float64(8)\n",
      "memory usage: 913.3 KB\n"
     ]
    }
   ],
   "source": [
    "df.info()"
   ]
  },
  {
   "cell_type": "markdown",
   "id": "2641a6bc",
   "metadata": {},
   "source": [
    "**Statistical Summary**"
   ]
  },
  {
   "cell_type": "code",
   "execution_count": 4,
   "id": "e623563f",
   "metadata": {},
   "outputs": [
    {
     "data": {
      "application/vnd.microsoft.datawrangler.viewer.v0+json": {
       "columns": [
        {
         "name": "index",
         "rawType": "object",
         "type": "string"
        },
        {
         "name": "msl",
         "rawType": "float64",
         "type": "float"
        },
        {
         "name": "sst",
         "rawType": "float64",
         "type": "float"
        },
        {
         "name": "u10",
         "rawType": "float64",
         "type": "float"
        },
        {
         "name": "v10",
         "rawType": "float64",
         "type": "float"
        },
        {
         "name": "ws",
         "rawType": "float64",
         "type": "float"
        },
        {
         "name": "t2m",
         "rawType": "float64",
         "type": "float"
        },
        {
         "name": "rh",
         "rawType": "float64",
         "type": "float"
        },
        {
         "name": "tp",
         "rawType": "float64",
         "type": "float"
        }
       ],
       "ref": "e3cf2a33-ad1a-49fe-a868-82033f619653",
       "rows": [
        [
         "count",
         "14610.0",
         "14610.0",
         "14610.0",
         "14610.0",
         "14610.0",
         "14610.0",
         "14610.0",
         "14610.0"
        ],
        [
         "mean",
         "100985.07908378965",
         "28.42204936168152",
         "1.3796119873290458",
         "-0.45134096261441004",
         "2.688490978411134",
         "27.000179561299337",
         "80.55884932607803",
         "3.8194658983770675"
        ],
        [
         "std",
         "185.15704714033606",
         "0.36853313609512606",
         "1.4130570780194922",
         "1.5318521119201012",
         "1.0303276510573227",
         "1.3969657997068123",
         "9.5511158900143",
         "7.305492022249061"
        ],
        [
         "min",
         "99929.51583333332",
         "27.233626666666705",
         "-4.472890266666666",
         "-5.59268695",
         "0.4343141537500312",
         "23.50974533333333",
         "35.90133325",
         "0.0"
        ],
        [
         "25%",
         "100860.68770833334",
         "28.152727916666684",
         "0.4712661080833333",
         "-1.4822324167708334",
         "1.9727836290241116",
         "25.882952375",
         "75.11489279166666",
         "0.00095367432"
        ],
        [
         "50%",
         "100986.85875",
         "28.373904583333356",
         "1.2733567520833333",
         "-0.5315799766666667",
         "2.4997949070417165",
         "26.82277425",
         "82.27371075",
         "0.71501732673"
        ],
        [
         "75%",
         "101113.77427083331",
         "28.708128125000016",
         "2.139927880833333",
         "0.44984246166666664",
         "3.2198617627081765",
         "28.0465595625",
         "88.50587089583334",
         "4.554390937"
        ],
        [
         "max",
         "101641.32875",
         "29.422016666666696",
         "8.540369625",
         "8.158190433333333",
         "8.786980104192208",
         "31.83111583333333",
         "94.47684716666669",
         "128.65209618"
        ]
       ],
       "shape": {
        "columns": 8,
        "rows": 8
       }
      },
      "text/html": [
       "<div>\n",
       "<style scoped>\n",
       "    .dataframe tbody tr th:only-of-type {\n",
       "        vertical-align: middle;\n",
       "    }\n",
       "\n",
       "    .dataframe tbody tr th {\n",
       "        vertical-align: top;\n",
       "    }\n",
       "\n",
       "    .dataframe thead th {\n",
       "        text-align: right;\n",
       "    }\n",
       "</style>\n",
       "<table border=\"1\" class=\"dataframe\">\n",
       "  <thead>\n",
       "    <tr style=\"text-align: right;\">\n",
       "      <th></th>\n",
       "      <th>msl</th>\n",
       "      <th>sst</th>\n",
       "      <th>u10</th>\n",
       "      <th>v10</th>\n",
       "      <th>ws</th>\n",
       "      <th>t2m</th>\n",
       "      <th>rh</th>\n",
       "      <th>tp</th>\n",
       "    </tr>\n",
       "  </thead>\n",
       "  <tbody>\n",
       "    <tr>\n",
       "      <th>count</th>\n",
       "      <td>14610.000000</td>\n",
       "      <td>14610.000000</td>\n",
       "      <td>14610.000000</td>\n",
       "      <td>14610.000000</td>\n",
       "      <td>14610.000000</td>\n",
       "      <td>14610.000000</td>\n",
       "      <td>14610.000000</td>\n",
       "      <td>14610.000000</td>\n",
       "    </tr>\n",
       "    <tr>\n",
       "      <th>mean</th>\n",
       "      <td>100985.079084</td>\n",
       "      <td>28.422049</td>\n",
       "      <td>1.379612</td>\n",
       "      <td>-0.451341</td>\n",
       "      <td>2.688491</td>\n",
       "      <td>27.000180</td>\n",
       "      <td>80.558849</td>\n",
       "      <td>3.819466</td>\n",
       "    </tr>\n",
       "    <tr>\n",
       "      <th>std</th>\n",
       "      <td>185.157047</td>\n",
       "      <td>0.368533</td>\n",
       "      <td>1.413057</td>\n",
       "      <td>1.531852</td>\n",
       "      <td>1.030328</td>\n",
       "      <td>1.396966</td>\n",
       "      <td>9.551116</td>\n",
       "      <td>7.305492</td>\n",
       "    </tr>\n",
       "    <tr>\n",
       "      <th>min</th>\n",
       "      <td>99929.515833</td>\n",
       "      <td>27.233627</td>\n",
       "      <td>-4.472890</td>\n",
       "      <td>-5.592687</td>\n",
       "      <td>0.434314</td>\n",
       "      <td>23.509745</td>\n",
       "      <td>35.901333</td>\n",
       "      <td>0.000000</td>\n",
       "    </tr>\n",
       "    <tr>\n",
       "      <th>25%</th>\n",
       "      <td>100860.687708</td>\n",
       "      <td>28.152728</td>\n",
       "      <td>0.471266</td>\n",
       "      <td>-1.482232</td>\n",
       "      <td>1.972784</td>\n",
       "      <td>25.882952</td>\n",
       "      <td>75.114893</td>\n",
       "      <td>0.000954</td>\n",
       "    </tr>\n",
       "    <tr>\n",
       "      <th>50%</th>\n",
       "      <td>100986.858750</td>\n",
       "      <td>28.373905</td>\n",
       "      <td>1.273357</td>\n",
       "      <td>-0.531580</td>\n",
       "      <td>2.499795</td>\n",
       "      <td>26.822774</td>\n",
       "      <td>82.273711</td>\n",
       "      <td>0.715017</td>\n",
       "    </tr>\n",
       "    <tr>\n",
       "      <th>75%</th>\n",
       "      <td>101113.774271</td>\n",
       "      <td>28.708128</td>\n",
       "      <td>2.139928</td>\n",
       "      <td>0.449842</td>\n",
       "      <td>3.219862</td>\n",
       "      <td>28.046560</td>\n",
       "      <td>88.505871</td>\n",
       "      <td>4.554391</td>\n",
       "    </tr>\n",
       "    <tr>\n",
       "      <th>max</th>\n",
       "      <td>101641.328750</td>\n",
       "      <td>29.422017</td>\n",
       "      <td>8.540370</td>\n",
       "      <td>8.158190</td>\n",
       "      <td>8.786980</td>\n",
       "      <td>31.831116</td>\n",
       "      <td>94.476847</td>\n",
       "      <td>128.652096</td>\n",
       "    </tr>\n",
       "  </tbody>\n",
       "</table>\n",
       "</div>"
      ],
      "text/plain": [
       "                 msl           sst           u10           v10            ws  \\\n",
       "count   14610.000000  14610.000000  14610.000000  14610.000000  14610.000000   \n",
       "mean   100985.079084     28.422049      1.379612     -0.451341      2.688491   \n",
       "std       185.157047      0.368533      1.413057      1.531852      1.030328   \n",
       "min     99929.515833     27.233627     -4.472890     -5.592687      0.434314   \n",
       "25%    100860.687708     28.152728      0.471266     -1.482232      1.972784   \n",
       "50%    100986.858750     28.373905      1.273357     -0.531580      2.499795   \n",
       "75%    101113.774271     28.708128      2.139928      0.449842      3.219862   \n",
       "max    101641.328750     29.422017      8.540370      8.158190      8.786980   \n",
       "\n",
       "                t2m            rh            tp  \n",
       "count  14610.000000  14610.000000  14610.000000  \n",
       "mean      27.000180     80.558849      3.819466  \n",
       "std        1.396966      9.551116      7.305492  \n",
       "min       23.509745     35.901333      0.000000  \n",
       "25%       25.882952     75.114893      0.000954  \n",
       "50%       26.822774     82.273711      0.715017  \n",
       "75%       28.046560     88.505871      4.554391  \n",
       "max       31.831116     94.476847    128.652096  "
      ]
     },
     "execution_count": 4,
     "metadata": {},
     "output_type": "execute_result"
    }
   ],
   "source": [
    "df.describe()"
   ]
  },
  {
   "cell_type": "markdown",
   "id": "14c81852",
   "metadata": {},
   "source": [
    "Columns"
   ]
  },
  {
   "cell_type": "code",
   "execution_count": 5,
   "id": "fae510f3",
   "metadata": {},
   "outputs": [
    {
     "data": {
      "text/plain": [
       "Index(['msl', 'sst', 'u10', 'v10', 'ws', 't2m', 'rh', 'tp'], dtype='object')"
      ]
     },
     "execution_count": 5,
     "metadata": {},
     "output_type": "execute_result"
    }
   ],
   "source": [
    "df.columns"
   ]
  },
  {
   "cell_type": "markdown",
   "id": "b2bca544",
   "metadata": {},
   "source": [
    "**Taking any one column**"
   ]
  },
  {
   "cell_type": "code",
   "execution_count": 6,
   "id": "3aabaef1",
   "metadata": {},
   "outputs": [
    {
     "data": {
      "application/vnd.microsoft.datawrangler.viewer.v0+json": {
       "columns": [
        {
         "name": "index",
         "rawType": "int64",
         "type": "integer"
        },
        {
         "name": "msl",
         "rawType": "float64",
         "type": "float"
        }
       ],
       "ref": "4c3e898f-9e41-419a-a1a8-c2510538d52a",
       "rows": [
        [
         "0",
         "101039.10958333332"
        ],
        [
         "1",
         "100965.89083333332"
        ],
        [
         "2",
         "101071.94791666669"
        ],
        [
         "3",
         "101039.70291666668"
        ],
        [
         "4",
         "101117.80208333331"
        ],
        [
         "5",
         "101031.52625"
        ],
        [
         "6",
         "101096.51041666669"
        ],
        [
         "7",
         "101090.51041666669"
        ],
        [
         "8",
         "101065.36958333332"
        ],
        [
         "9",
         "101110.89041666668"
        ],
        [
         "10",
         "101141.64083333332"
        ],
        [
         "11",
         "101055.8175"
        ],
        [
         "12",
         "101068.40625"
        ],
        [
         "13",
         "100937.02625"
        ],
        [
         "14",
         "100980.18208333332"
        ],
        [
         "15",
         "100947.39083333332"
        ],
        [
         "16",
         "101078.01083333332"
        ],
        [
         "17",
         "101118.14166666666"
        ],
        [
         "18",
         "101132.92666666668"
        ],
        [
         "19",
         "101015.33916666669"
        ],
        [
         "20",
         "101066.25541666668"
        ],
        [
         "21",
         "100915.3275"
        ],
        [
         "22",
         "101043.4375"
        ],
        [
         "23",
         "101058.22958333332"
        ],
        [
         "24",
         "101083.01"
        ],
        [
         "25",
         "101050.75416666668"
        ],
        [
         "26",
         "101115.19208333331"
        ],
        [
         "27",
         "101091.57916666666"
        ],
        [
         "28",
         "101206.5575"
        ],
        [
         "29",
         "101170.40625"
        ],
        [
         "30",
         "101153.85416666669"
        ],
        [
         "31",
         "101182.73416666668"
        ],
        [
         "32",
         "101166.11958333332"
        ],
        [
         "33",
         "101148.875"
        ],
        [
         "34",
         "101193.0625"
        ],
        [
         "35",
         "101111.77041666668"
        ],
        [
         "36",
         "101059.08958333332"
        ],
        [
         "37",
         "101065.98541666666"
        ],
        [
         "38",
         "101055.72375"
        ],
        [
         "39",
         "100986.60916666668"
        ],
        [
         "40",
         "100959.53125"
        ],
        [
         "41",
         "100945.40625"
        ],
        [
         "42",
         "100945.83875"
        ],
        [
         "43",
         "100904.65625"
        ],
        [
         "44",
         "100915.71333333332"
        ],
        [
         "45",
         "100851.69791666669"
        ],
        [
         "46",
         "100874.21333333332"
        ],
        [
         "47",
         "100930.72375"
        ],
        [
         "48",
         "100993.45833333331"
        ],
        [
         "49",
         "100860.33333333331"
        ]
       ],
       "shape": {
        "columns": 1,
        "rows": 14610
       }
      },
      "text/plain": [
       "0        101039.109583\n",
       "1        100965.890833\n",
       "2        101071.947917\n",
       "3        101039.702917\n",
       "4        101117.802083\n",
       "             ...      \n",
       "14605    100973.963333\n",
       "14606    100937.531250\n",
       "14607    100930.057083\n",
       "14608    101036.900417\n",
       "14609    101035.006250\n",
       "Name: msl, Length: 14610, dtype: float64"
      ]
     },
     "execution_count": 6,
     "metadata": {},
     "output_type": "execute_result"
    }
   ],
   "source": [
    "df['msl']"
   ]
  },
  {
   "cell_type": "code",
   "execution_count": 7,
   "id": "4301364b",
   "metadata": {},
   "outputs": [
    {
     "data": {
      "application/vnd.microsoft.datawrangler.viewer.v0+json": {
       "columns": [
        {
         "name": "index",
         "rawType": "object",
         "type": "string"
        },
        {
         "name": "0",
         "rawType": "int64",
         "type": "integer"
        }
       ],
       "ref": "7e9bba4d-3772-491e-b4f1-f32d143a563b",
       "rows": [
        [
         "msl",
         "0"
        ],
        [
         "sst",
         "0"
        ],
        [
         "u10",
         "0"
        ],
        [
         "v10",
         "0"
        ],
        [
         "ws",
         "0"
        ],
        [
         "t2m",
         "0"
        ],
        [
         "rh",
         "0"
        ],
        [
         "tp",
         "0"
        ]
       ],
       "shape": {
        "columns": 1,
        "rows": 8
       }
      },
      "text/plain": [
       "msl    0\n",
       "sst    0\n",
       "u10    0\n",
       "v10    0\n",
       "ws     0\n",
       "t2m    0\n",
       "rh     0\n",
       "tp     0\n",
       "dtype: int64"
      ]
     },
     "execution_count": 7,
     "metadata": {},
     "output_type": "execute_result"
    }
   ],
   "source": [
    "df.isnull().sum()"
   ]
  },
  {
   "cell_type": "code",
   "execution_count": 8,
   "id": "75b97c37",
   "metadata": {},
   "outputs": [],
   "source": [
    "def save_dataframe_to_excel(df, filename, sheet_name=\"Sheet1\"):\n",
    "    \"\"\"\n",
    "    Save DataFrame to Excel.\n",
    "    - Writes to a temporary file first\n",
    "    - Only replaces the original if content changed\n",
    "    - Prevents Excel from always showing 'M' when open\n",
    "    \"\"\"\n",
    "    # Create a temporary file\n",
    "    tmp_fd, tmp_path = tempfile.mkstemp(suffix=\".xlsx\")\n",
    "    os.close(tmp_fd)\n",
    "\n",
    "    # Save to temporary file\n",
    "    df.to_excel(tmp_path, sheet_name=sheet_name)\n",
    "\n",
    "    # If file doesn't exist, move directly\n",
    "    if not os.path.exists(filename):\n",
    "        shutil.move(tmp_path, filename)\n",
    "        print(f\"Saved new file: {filename}\")\n",
    "        return\n",
    "\n",
    "    # Compare with existing file\n",
    "    if filecmp.cmp(tmp_path, filename, shallow=False):\n",
    "        os.remove(tmp_path)\n",
    "        print(\"No changes detected. Skipping overwrite.\")\n",
    "    else:\n",
    "        shutil.move(tmp_path, filename)\n",
    "        print(f\"Updated file: {filename}\")"
   ]
  },
  {
   "cell_type": "markdown",
   "id": "9d1000b4",
   "metadata": {},
   "source": [
    "#### Calculate the mean and variance"
   ]
  },
  {
   "cell_type": "code",
   "execution_count": 9,
   "id": "154a4934",
   "metadata": {},
   "outputs": [
    {
     "data": {
      "application/vnd.microsoft.datawrangler.viewer.v0+json": {
       "columns": [
        {
         "name": "index",
         "rawType": "object",
         "type": "string"
        },
        {
         "name": "0",
         "rawType": "float64",
         "type": "float"
        }
       ],
       "ref": "bba5f03c-6be8-406f-8e89-ace8a1267b90",
       "rows": [
        [
         "msl",
         "100985.07908378965"
        ],
        [
         "sst",
         "28.42204936168152"
        ],
        [
         "u10",
         "1.3796119873290458"
        ],
        [
         "v10",
         "-0.45134096261441004"
        ],
        [
         "ws",
         "2.688490978411134"
        ],
        [
         "t2m",
         "27.000179561299337"
        ],
        [
         "rh",
         "80.55884932607803"
        ],
        [
         "tp",
         "3.8194658983770675"
        ]
       ],
       "shape": {
        "columns": 1,
        "rows": 8
       }
      },
      "text/plain": [
       "msl    100985.079084\n",
       "sst        28.422049\n",
       "u10         1.379612\n",
       "v10        -0.451341\n",
       "ws          2.688491\n",
       "t2m        27.000180\n",
       "rh         80.558849\n",
       "tp          3.819466\n",
       "dtype: float64"
      ]
     },
     "execution_count": 9,
     "metadata": {},
     "output_type": "execute_result"
    }
   ],
   "source": [
    "df.mean()"
   ]
  },
  {
   "cell_type": "code",
   "execution_count": 10,
   "id": "187e9958",
   "metadata": {},
   "outputs": [
    {
     "data": {
      "application/vnd.microsoft.datawrangler.viewer.v0+json": {
       "columns": [
        {
         "name": "index",
         "rawType": "object",
         "type": "string"
        },
        {
         "name": "0",
         "rawType": "float64",
         "type": "float"
        }
       ],
       "ref": "cb43bd2c-6d8d-41ba-b2a4-0bbbb9574211",
       "rows": [
        [
         "msl",
         "34283.13210572863"
        ],
        [
         "sst",
         "0.13581667240010872"
        ],
        [
         "u10",
         "1.9967303057409855"
        ],
        [
         "v10",
         "2.3465708927940745"
        ],
        [
         "ws",
         "1.0615750685333"
        ],
        [
         "t2m",
         "1.9515134455504937"
        ],
        [
         "rh",
         "91.22381474448366"
        ],
        [
         "tp",
         "53.370213687144684"
        ]
       ],
       "shape": {
        "columns": 1,
        "rows": 8
       }
      },
      "text/plain": [
       "msl    34283.132106\n",
       "sst        0.135817\n",
       "u10        1.996730\n",
       "v10        2.346571\n",
       "ws         1.061575\n",
       "t2m        1.951513\n",
       "rh        91.223815\n",
       "tp        53.370214\n",
       "dtype: float64"
      ]
     },
     "execution_count": 10,
     "metadata": {},
     "output_type": "execute_result"
    }
   ],
   "source": [
    "df.var()"
   ]
  },
  {
   "cell_type": "markdown",
   "id": "dae3a475",
   "metadata": {},
   "source": [
    "Mean and Variance saved as a Excel file"
   ]
  },
  {
   "cell_type": "code",
   "execution_count": 11,
   "id": "d846cae6",
   "metadata": {},
   "outputs": [
    {
     "name": "stdout",
     "output_type": "stream",
     "text": [
      "Updated file: ../reports/information/mean_variance.xlsx\n"
     ]
    }
   ],
   "source": [
    "mean_var = pd.DataFrame({'Mean': df.mean(), 'Variance': df.var()})\n",
    "save_dataframe_to_excel(mean_var, \"../reports/information/mean_variance.xlsx\")"
   ]
  },
  {
   "cell_type": "markdown",
   "id": "0209cfd6",
   "metadata": {},
   "source": [
    "# Exploratory Data Analysis"
   ]
  },
  {
   "cell_type": "markdown",
   "id": "c82d86d3",
   "metadata": {},
   "source": [
    "### Histograms\n",
    "Here the histograms shows how often the value has appeared in each column\n",
    "\n",
    "Pandas Histogram: https://pandas.pydata.org/docs/reference/api/pandas.DataFrame.hist.html\n",
    "\n",
    "Some new functions:\n",
    "\n",
    "tight_layout: This adjusts the graph such that they do not overlap. Link: https://matplotlib.org/stable/api/_as_gen/matplotlib.pyplot.tight_layout.html\n"
   ]
  },
  {
   "cell_type": "code",
   "execution_count": 12,
   "id": "eed38932",
   "metadata": {},
   "outputs": [
    {
     "data": {
      "text/plain": [
       "<Figure size 1200x1000 with 0 Axes>"
      ]
     },
     "metadata": {},
     "output_type": "display_data"
    },
    {
     "data": {
      "image/png": "[encoded data removed]",
      "text/plain": [
       "<Figure size 1200x1000 with 9 Axes>"
      ]
     },
     "metadata": {},
     "output_type": "display_data"
    }
   ],
   "source": [
    "plt.figure(figsize=(12,10))\n",
    "df.hist(figsize=(12,10), bins=30)\n",
    "plt.tight_layout()\n",
    "plt.savefig('../reports/graphs/histograms/histogram.png', dpi=300)\n",
    "plt.show()"
   ]
  },
  {
   "cell_type": "markdown",
   "id": "795295dd",
   "metadata": {},
   "source": [
    "### BoxPlots\n",
    "\n",
    "A box plot (or box-and-whisker plot) shows the distribution of quantitative data in a way that facilitates comparisons between variables or across levels of a categorical variable. The box shows the quartiles of the dataset while the whiskers extend to show the rest of the distribution, except for points that are determined to be “outliers” using a method that is a function of the inter-quartile range.\n",
    "\n",
    "Link: https://seaborn.pydata.org/generated/seaborn.boxplot.html"
   ]
  },
  {
   "cell_type": "code",
   "execution_count": 13,
   "id": "25113095",
   "metadata": {},
   "outputs": [],
   "source": [
    "for col in df.columns:\n",
    "    plt.figure(figsize=(8,2))\n",
    "    sns.boxplot(x=df[col])\n",
    "    plt.title(f\"Boxplot: {col}\")\n",
    "    filename = f'../reports/graphs/boxplots/boxplot_{col}.png'\n",
    "    plt.savefig(filename, dpi=300, bbox_inches='tight')\n",
    "    plt.close()"
   ]
  },
  {
   "cell_type": "markdown",
   "id": "5f50ea1e",
   "metadata": {},
   "source": [
    "### Correlation Matrix (HeatMap)\n",
    "\n",
    "Correlation Matrix: A correlation matrix is a table that shows how strongly each feature in a dataset is related to the others. It helps us understand if changes in one column are associated with changes in another column. We must use corr(). Link: https://pandas.pydata.org/docs/reference/api/pandas.DataFrame.corr.html\n",
    "\n",
    "Heatmap: A heatmap is a visual way to show data where values are represented as colors. It is especially useful for showing a correlation matrix, because you can quickly see which variables are strongly related. Link:https://seaborn.pydata.org/generated/seaborn.heatmap.html"
   ]
  },
  {
   "cell_type": "code",
   "execution_count": 14,
   "id": "c5a13097",
   "metadata": {},
   "outputs": [
    {
     "data": {
      "application/vnd.microsoft.datawrangler.viewer.v0+json": {
       "columns": [
        {
         "name": "index",
         "rawType": "object",
         "type": "string"
        },
        {
         "name": "msl",
         "rawType": "float64",
         "type": "float"
        },
        {
         "name": "sst",
         "rawType": "float64",
         "type": "float"
        },
        {
         "name": "u10",
         "rawType": "float64",
         "type": "float"
        },
        {
         "name": "v10",
         "rawType": "float64",
         "type": "float"
        },
        {
         "name": "ws",
         "rawType": "float64",
         "type": "float"
        },
        {
         "name": "t2m",
         "rawType": "float64",
         "type": "float"
        },
        {
         "name": "rh",
         "rawType": "float64",
         "type": "float"
        },
        {
         "name": "tp",
         "rawType": "float64",
         "type": "float"
        }
       ],
       "ref": "696ddea2-93c8-476c-9449-b945d5b0edfa",
       "rows": [
        [
         "msl",
         "1.0",
         "-0.0021687205480949677",
         "-0.3400849148830608",
         "-0.09739800723093849",
         "-0.30086344051720054",
         "0.042830771390319586",
         "-0.4069128042863295",
         "-0.3753895635325495"
        ],
        [
         "sst",
         "-0.0021687205480949677",
         "1.0",
         "-0.06664971373891572",
         "0.06476751214778229",
         "-0.04292388370163646",
         "-0.04957546279456903",
         "0.10064513894858788",
         "0.04317356641270038"
        ],
        [
         "u10",
         "-0.3400849148830608",
         "-0.06664971373891572",
         "1.0",
         "-0.17592081685847616",
         "0.6425557356752718",
         "-0.1554456354348555",
         "0.3638284473115403",
         "0.4043394746848406"
        ],
        [
         "v10",
         "-0.09739800723093849",
         "0.06476751214778229",
         "-0.17592081685847616",
         "1.0",
         "-0.048750368743136534",
         "-0.08944167476217872",
         "0.1410296371067944",
         "0.2704612017704581"
        ],
        [
         "ws",
         "-0.30086344051720054",
         "-0.04292388370163646",
         "0.6425557356752718",
         "-0.048750368743136534",
         "1.0",
         "-0.08742872578288335",
         "0.07224970599873086",
         "0.4034155102243794"
        ],
        [
         "t2m",
         "0.042830771390319586",
         "-0.04957546279456903",
         "-0.1554456354348555",
         "-0.08944167476217872",
         "-0.08742872578288335",
         "1.0",
         "-0.595526619897355",
         "-0.4043186519324356"
        ],
        [
         "rh",
         "-0.4069128042863295",
         "0.10064513894858788",
         "0.3638284473115403",
         "0.1410296371067944",
         "0.07224970599873086",
         "-0.595526619897355",
         "1.0",
         "0.46174206957695413"
        ],
        [
         "tp",
         "-0.3753895635325495",
         "0.04317356641270038",
         "0.4043394746848406",
         "0.2704612017704581",
         "0.4034155102243794",
         "-0.4043186519324356",
         "0.46174206957695413",
         "1.0"
        ]
       ],
       "shape": {
        "columns": 8,
        "rows": 8
       }
      },
      "text/html": [
       "<div>\n",
       "<style scoped>\n",
       "    .dataframe tbody tr th:only-of-type {\n",
       "        vertical-align: middle;\n",
       "    }\n",
       "\n",
       "    .dataframe tbody tr th {\n",
       "        vertical-align: top;\n",
       "    }\n",
       "\n",
       "    .dataframe thead th {\n",
       "        text-align: right;\n",
       "    }\n",
       "</style>\n",
       "<table border=\"1\" class=\"dataframe\">\n",
       "  <thead>\n",
       "    <tr style=\"text-align: right;\">\n",
       "      <th></th>\n",
       "      <th>msl</th>\n",
       "      <th>sst</th>\n",
       "      <th>u10</th>\n",
       "      <th>v10</th>\n",
       "      <th>ws</th>\n",
       "      <th>t2m</th>\n",
       "      <th>rh</th>\n",
       "      <th>tp</th>\n",
       "    </tr>\n",
       "  </thead>\n",
       "  <tbody>\n",
       "    <tr>\n",
       "      <th>msl</th>\n",
       "      <td>1.000000</td>\n",
       "      <td>-0.002169</td>\n",
       "      <td>-0.340085</td>\n",
       "      <td>-0.097398</td>\n",
       "      <td>-0.300863</td>\n",
       "      <td>0.042831</td>\n",
       "      <td>-0.406913</td>\n",
       "      <td>-0.375390</td>\n",
       "    </tr>\n",
       "    <tr>\n",
       "      <th>sst</th>\n",
       "      <td>-0.002169</td>\n",
       "      <td>1.000000</td>\n",
       "      <td>-0.066650</td>\n",
       "      <td>0.064768</td>\n",
       "      <td>-0.042924</td>\n",
       "      <td>-0.049575</td>\n",
       "      <td>0.100645</td>\n",
       "      <td>0.043174</td>\n",
       "    </tr>\n",
       "    <tr>\n",
       "      <th>u10</th>\n",
       "      <td>-0.340085</td>\n",
       "      <td>-0.066650</td>\n",
       "      <td>1.000000</td>\n",
       "      <td>-0.175921</td>\n",
       "      <td>0.642556</td>\n",
       "      <td>-0.155446</td>\n",
       "      <td>0.363828</td>\n",
       "      <td>0.404339</td>\n",
       "    </tr>\n",
       "    <tr>\n",
       "      <th>v10</th>\n",
       "      <td>-0.097398</td>\n",
       "      <td>0.064768</td>\n",
       "      <td>-0.175921</td>\n",
       "      <td>1.000000</td>\n",
       "      <td>-0.048750</td>\n",
       "      <td>-0.089442</td>\n",
       "      <td>0.141030</td>\n",
       "      <td>0.270461</td>\n",
       "    </tr>\n",
       "    <tr>\n",
       "      <th>ws</th>\n",
       "      <td>-0.300863</td>\n",
       "      <td>-0.042924</td>\n",
       "      <td>0.642556</td>\n",
       "      <td>-0.048750</td>\n",
       "      <td>1.000000</td>\n",
       "      <td>-0.087429</td>\n",
       "      <td>0.072250</td>\n",
       "      <td>0.403416</td>\n",
       "    </tr>\n",
       "    <tr>\n",
       "      <th>t2m</th>\n",
       "      <td>0.042831</td>\n",
       "      <td>-0.049575</td>\n",
       "      <td>-0.155446</td>\n",
       "      <td>-0.089442</td>\n",
       "      <td>-0.087429</td>\n",
       "      <td>1.000000</td>\n",
       "      <td>-0.595527</td>\n",
       "      <td>-0.404319</td>\n",
       "    </tr>\n",
       "    <tr>\n",
       "      <th>rh</th>\n",
       "      <td>-0.406913</td>\n",
       "      <td>0.100645</td>\n",
       "      <td>0.363828</td>\n",
       "      <td>0.141030</td>\n",
       "      <td>0.072250</td>\n",
       "      <td>-0.595527</td>\n",
       "      <td>1.000000</td>\n",
       "      <td>0.461742</td>\n",
       "    </tr>\n",
       "    <tr>\n",
       "      <th>tp</th>\n",
       "      <td>-0.375390</td>\n",
       "      <td>0.043174</td>\n",
       "      <td>0.404339</td>\n",
       "      <td>0.270461</td>\n",
       "      <td>0.403416</td>\n",
       "      <td>-0.404319</td>\n",
       "      <td>0.461742</td>\n",
       "      <td>1.000000</td>\n",
       "    </tr>\n",
       "  </tbody>\n",
       "</table>\n",
       "</div>"
      ],
      "text/plain": [
       "          msl       sst       u10       v10        ws       t2m        rh  \\\n",
       "msl  1.000000 -0.002169 -0.340085 -0.097398 -0.300863  0.042831 -0.406913   \n",
       "sst -0.002169  1.000000 -0.066650  0.064768 -0.042924 -0.049575  0.100645   \n",
       "u10 -0.340085 -0.066650  1.000000 -0.175921  0.642556 -0.155446  0.363828   \n",
       "v10 -0.097398  0.064768 -0.175921  1.000000 -0.048750 -0.089442  0.141030   \n",
       "ws  -0.300863 -0.042924  0.642556 -0.048750  1.000000 -0.087429  0.072250   \n",
       "t2m  0.042831 -0.049575 -0.155446 -0.089442 -0.087429  1.000000 -0.595527   \n",
       "rh  -0.406913  0.100645  0.363828  0.141030  0.072250 -0.595527  1.000000   \n",
       "tp  -0.375390  0.043174  0.404339  0.270461  0.403416 -0.404319  0.461742   \n",
       "\n",
       "           tp  \n",
       "msl -0.375390  \n",
       "sst  0.043174  \n",
       "u10  0.404339  \n",
       "v10  0.270461  \n",
       "ws   0.403416  \n",
       "t2m -0.404319  \n",
       "rh   0.461742  \n",
       "tp   1.000000  "
      ]
     },
     "execution_count": 14,
     "metadata": {},
     "output_type": "execute_result"
    }
   ],
   "source": [
    "corr = df.corr()\n",
    "corr"
   ]
  },
  {
   "cell_type": "code",
   "execution_count": 15,
   "id": "dc965634",
   "metadata": {},
   "outputs": [
    {
     "data": {
      "image/png": "[encoded data removed]",
      "text/plain": [
       "<Figure size 800x600 with 2 Axes>"
      ]
     },
     "metadata": {},
     "output_type": "display_data"
    }
   ],
   "source": [
    "plt.figure(figsize=(8,6))\n",
    "sns.heatmap(corr, annot=True, fmt=\".2f\", cmap='coolwarm', square=True, vmin=-1, vmax=1)\n",
    "plt.title(\"Correlation matrix\")\n",
    "plt.savefig('../reports/graphs/heatmaps/heatmap.png', dpi=300, bbox_inches='tight')\n",
    "plt.show()"
   ]
  },
  {
   "cell_type": "markdown",
   "id": "0262c490",
   "metadata": {},
   "source": [
    "Print the Correlation with target"
   ]
  },
  {
   "cell_type": "code",
   "execution_count": 16,
   "id": "22c20f6d",
   "metadata": {},
   "outputs": [
    {
     "data": {
      "application/vnd.microsoft.datawrangler.viewer.v0+json": {
       "columns": [
        {
         "name": "index",
         "rawType": "object",
         "type": "string"
        },
        {
         "name": "tp",
         "rawType": "float64",
         "type": "float"
        }
       ],
       "ref": "67bbd7c5-2c84-4c3c-99c6-04c1725aa243",
       "rows": [
        [
         "tp",
         "1.0"
        ],
        [
         "rh",
         "0.46174206957695413"
        ],
        [
         "u10",
         "0.4043394746848406"
        ],
        [
         "ws",
         "0.4034155102243794"
        ],
        [
         "v10",
         "0.2704612017704581"
        ],
        [
         "sst",
         "0.04317356641270038"
        ],
        [
         "msl",
         "-0.3753895635325495"
        ],
        [
         "t2m",
         "-0.4043186519324356"
        ]
       ],
       "shape": {
        "columns": 1,
        "rows": 8
       }
      },
      "text/plain": [
       "tp     1.000000\n",
       "rh     0.461742\n",
       "u10    0.404339\n",
       "ws     0.403416\n",
       "v10    0.270461\n",
       "sst    0.043174\n",
       "msl   -0.375390\n",
       "t2m   -0.404319\n",
       "Name: tp, dtype: float64"
      ]
     },
     "execution_count": 16,
     "metadata": {},
     "output_type": "execute_result"
    }
   ],
   "source": [
    "corr_target = corr['tp'].sort_values(ascending=False)\n",
    "corr_target"
   ]
  },
  {
   "cell_type": "markdown",
   "id": "cb0ea1db",
   "metadata": {},
   "source": [
    "Saving the Correlation with target to a excel file"
   ]
  },
  {
   "cell_type": "code",
   "execution_count": 17,
   "id": "23588798",
   "metadata": {},
   "outputs": [
    {
     "name": "stdout",
     "output_type": "stream",
     "text": [
      "Updated file: ../reports/information/correlation_with_tp.xlsx\n"
     ]
    }
   ],
   "source": [
    "save_dataframe_to_excel(corr_target, \"../reports/information/correlation_with_tp.xlsx\")"
   ]
  },
  {
   "cell_type": "markdown",
   "id": "b3806a60",
   "metadata": {},
   "source": [
    "### Scatterplots (tp vs each feature)\n",
    "\n",
    "A scatter plot is a type of plot that shows the relationship between two variables. Each point represents one observation in your dataset.\n",
    "\n",
    "Link: https://matplotlib.org/stable/api/_as_gen/matplotlib.pyplot.scatter.html\n"
   ]
  },
  {
   "cell_type": "code",
   "execution_count": 18,
   "id": "c32dfc84",
   "metadata": {},
   "outputs": [],
   "source": [
    "features = [c for c in df.columns if c != 'tp']\n",
    "for col in features:\n",
    "    plt.figure(figsize=(5,3))\n",
    "    plt.scatter(x=df[col], y=df['tp'], alpha=0.5, c='red', edgecolor='none')\n",
    "    plt.xlabel(col)\n",
    "    plt.ylabel('tp')\n",
    "    plt.title(f\"tp vs {col}\")\n",
    "    filename = f'../reports/graphs/scatters/scatter_tp_vs_{col}.png'\n",
    "    plt.savefig(filename, dpi=300, bbox_inches='tight')\n",
    "    plt.close()"
   ]
  },
  {
   "cell_type": "code",
   "execution_count": 19,
   "id": "a1365cab",
   "metadata": {},
   "outputs": [],
   "source": [
    "eda_distribution = {\n",
    "    \"msl\": {\n",
    "        \"shape\": \"Normal\",\n",
    "        \"outliers\": \"Yes\",\n",
    "        \"relationship_with_tp\": \"Non-linear. The scatter plot shows that the highest precipitation occurs within a mid-range of pressure values (approx. 100500-101250), not at the extremes.\",\n",
    "        \"notes\": \"The distribution is approximately normal. Its relationship with precipitation is not a simple line, but confined to a specific pressure band.\"\n",
    "    },\n",
    "    \"sst\": {\n",
    "        \"shape\": \"Bimodal\",\n",
    "        \"outliers\": \"No\",\n",
    "        \"relationship_with_tp\": \"No clear relationship. Precipitation events are scattered within the two main temperature clusters, but there is no obvious trend.\",\n",
    "        \"notes\": \"This feature has a bimodal distribution. It does not appear to be a strong individual predictor for the amount of precipitation.\"\n",
    "    },\n",
    "    \"u10\": {\n",
    "        \"shape\": \"Normal\",\n",
    "        \"outliers\": \"Yes\",\n",
    "        \"relationship_with_tp\": \"Weak positive relationship. The plot is very scattered, but higher precipitation is possible as the eastward wind component moves away from zero.\",\n",
    "        \"notes\": \"The eastward wind component follows a normal distribution with many outliers. Its relationship with precipitation is noisy.\"\n",
    "    },\n",
    "    \"v10\": {\n",
    "        \"shape\": \"Normal\",\n",
    "        \"outliers\": \"Yes\",\n",
    "        \"relationship_with_tp\": \"Very weak relationship. The points are widely scattered with no discernible pattern connecting the northward wind component to precipitation amount.\",\n",
    "        \"notes\": \"Normally distributed with many outliers. It appears to be a poor predictor of precipitation on its own.\"\n",
    "    },\n",
    "    \"ws\": {\n",
    "        \"shape\": \"Skewed Right\",\n",
    "        \"outliers\": \"Yes\",\n",
    "        \"relationship_with_tp\": \"Weak positive relationship. Higher wind speeds allow for higher precipitation, but the relationship is very scattered (heteroscedastic).\",\n",
    "        \"notes\": \"Wind speed is positively skewed. Higher wind speeds are associated with a greater *possibility* of rain, but not a certainty.\"\n",
    "    },\n",
    "    \"t2m\": {\n",
    "        \"shape\": \"Skewed Left\",\n",
    "        \"outliers\": \"Yes\",\n",
    "        \"relationship_with_tp\": \"Non-linear. The highest precipitation values are concentrated in a specific temperature band (approx. 24-27°C).\",\n",
    "        \"notes\": \"Temperature is slightly skewed left. Its relationship with rain is not linear; instead, there's an optimal temperature range for heavy precipitation.\"\n",
    "    },\n",
    "    \"rh\": {\n",
    "        \"shape\": \"Skewed Left\",\n",
    "        \"outliers\": \"Yes\",\n",
    "        \"relationship_with_tp\": \"Strong, non-linear positive relationship. There is a clear threshold around 75% RH, above which precipitation becomes possible and increases dramatically.\",\n",
    "        \"notes\": \"Relative humidity is strongly skewed left. It is the most telling predictor, showing that high humidity is a necessary condition for rain.\"\n",
    "    },\n",
    "    \"tp\": {\n",
    "        \"shape\": \"Skewed Right\",\n",
    "        \"outliers\": \"Yes\",\n",
    "        \"notes\": \"Total precipitation is extremely skewed to the right, which is typical for rainfall data where non-rainy days (value 0) are most common.\"\n",
    "    }\n",
    "}"
   ]
  },
  {
   "cell_type": "code",
   "execution_count": 20,
   "id": "6169bdd1",
   "metadata": {},
   "outputs": [
    {
     "name": "stdout",
     "output_type": "stream",
     "text": [
      "Updated file: ../reports/information/eda_summary.xlsx\n"
     ]
    }
   ],
   "source": [
    "eda=pd.DataFrame(eda_distribution).T\n",
    "save_dataframe_to_excel(eda, \"../reports/information/eda_summary.xlsx\")\n"
   ]
  },
  {
   "cell_type": "markdown",
   "id": "dd5a316b",
   "metadata": {},
   "source": [
    "### Strong correlations, noticeable or interesting patterns\n",
    "\n",
    "#### 1. Strongest linear relationships (from the heatmap):\n",
    "\n",
    "A significant negative correlation exists between 2m air temperature (t2m) and relative humidity (rh) at approximately -0.60, reflecting the well-known physical relationship that warmer air holds more moisture and thus tends to have lower relative humidity.\n",
    "\n",
    "A strong positive correlation is seen between wind speed (ws) and the eastward wind component (u10) at about +0.64, which is expected since ws is derived from u10 and v10.\n",
    "\n",
    "#### 2. Target variable tp (precipitation) and predictors:\n",
    "\n",
    "The relationship between precipitation and relative humidity (rh) is visually the most important. Precipitation is almost absent until rh crosses a threshold of around 75%, after which the likelihood and magnitude of rainfall increase sharply. This makes rh the most critical predictor in the dataset.\n",
    "\n",
    "Both temperature (t2m) and mean sea level pressure (msl) show non-linear relationships with precipitation. The heaviest rainfall is concentrated within specific “optimal” bands (approx. t2m 24–27 °C, msl 100500–101250 Pa), rather than at extreme values.\n",
    "\n",
    "Sea surface temperature (sst) exhibits a bimodal distribution but does not show a clear direct relationship with precipitation in the scatter plots.\n",
    "\n",
    "#### 3. Wind components:\n",
    "\n",
    "The individual components (u10 and v10) show diffuse scatterplots against precipitation, suggesting that wind direction alone has little predictive power for rainfall intensity.\n",
    "\n",
    "However, overall wind speed (ws) may play a role: higher values are associated with a greater possibility of rainfall, but the relationship is weak and highly scattered (heteroscedastic)."
   ]
  },
  {
   "cell_type": "code",
   "execution_count": 21,
   "id": "8ea98ea4",
   "metadata": {},
   "outputs": [],
   "source": [
    "info='''### Strong correlations, noticeable or interesting patterns\n",
    "\n",
    "#### 1. Strongest linear relationships (from the heatmap):\n",
    "\n",
    "A significant negative correlation exists between 2m air temperature (t2m) and relative humidity (rh) at approximately -0.60, reflecting the well-known physical relationship that warmer air holds more moisture and thus tends to have lower relative humidity.\n",
    "\n",
    "A strong positive correlation is seen between wind speed (ws) and the eastward wind component (u10) at about +0.64, which is expected since ws is derived from u10 and v10.\n",
    "\n",
    "#### 2. Target variable tp (precipitation) and predictors:\n",
    "\n",
    "The relationship between precipitation and relative humidity (rh) is visually the most important. Precipitation is almost absent until rh crosses a threshold of around 75%, after which the likelihood and magnitude of rainfall increase sharply. This makes rh the most critical predictor in the dataset.\n",
    "\n",
    "Both temperature (t2m) and mean sea level pressure (msl) show non-linear relationships with precipitation. The heaviest rainfall is concentrated within specific “optimal” bands (approx. t2m 24–27 °C, msl 100500–101250 Pa), rather than at extreme values.\n",
    "\n",
    "Sea surface temperature (sst) exhibits a bimodal distribution but does not show a clear direct relationship with precipitation in the scatter plots.\n",
    "\n",
    "#### 3. Wind components:\n",
    "\n",
    "The individual components (u10 and v10) show diffuse scatterplots against precipitation, suggesting that wind direction alone has little predictive power for rainfall intensity.\n",
    "\n",
    "However, overall wind speed (ws) may play a role: higher values are associated with a greater possibility of rainfall, but the relationship is weak and highly scattered (heteroscedastic).'''"
   ]
  },
  {
   "cell_type": "code",
   "execution_count": 22,
   "id": "d443614c",
   "metadata": {},
   "outputs": [],
   "source": [
    "with open(\"../reports/information/analysis.txt\", \"w\") as f:\n",
    "    f.write(info)"
   ]
  },
  {
   "cell_type": "markdown",
   "id": "5aaf0d35",
   "metadata": {},
   "source": []
  },
  {
   "cell_type": "code",
   "execution_count": 23,
   "id": "6f565b32",
   "metadata": {},
   "outputs": [],
   "source": [
    "from sklearn.model_selection import train_test_split\n",
    "from sklearn.preprocessing import StandardScaler"
   ]
  },
  {
   "cell_type": "code",
   "execution_count": 24,
   "id": "da3c9be6",
   "metadata": {},
   "outputs": [
    {
     "data": {
      "application/vnd.microsoft.datawrangler.viewer.v0+json": {
       "columns": [
        {
         "name": "index",
         "rawType": "int64",
         "type": "integer"
        },
        {
         "name": "msl",
         "rawType": "float64",
         "type": "float"
        },
        {
         "name": "sst",
         "rawType": "float64",
         "type": "float"
        },
        {
         "name": "u10",
         "rawType": "float64",
         "type": "float"
        },
        {
         "name": "v10",
         "rawType": "float64",
         "type": "float"
        },
        {
         "name": "ws",
         "rawType": "float64",
         "type": "float"
        },
        {
         "name": "t2m",
         "rawType": "float64",
         "type": "float"
        },
        {
         "name": "rh",
         "rawType": "float64",
         "type": "float"
        }
       ],
       "ref": "8a19d0a3-cbe6-43ff-b696-9fc821b0e3be",
       "rows": [
        [
         "0",
         "101039.10958333332",
         "28.27259166666669",
         "1.03760402",
         "0.8960622183333333",
         "1.9398035663530997",
         "26.803985583333333",
         "73.88753774999999"
        ],
        [
         "1",
         "100965.89083333332",
         "28.272828333333354",
         "0.1944363837916667",
         "-0.2147394811666666",
         "1.141201894145055",
         "25.138508916666662",
         "83.93715341666667"
        ],
        [
         "2",
         "101071.94791666669",
         "28.27306666666669",
         "0.5586751546666667",
         "0.1707280437499999",
         "1.734704673272315",
         "26.27941875",
         "74.86358391666667"
        ],
        [
         "3",
         "101039.70291666668",
         "28.27330000000002",
         "0.8084119208333332",
         "-2.010219578333333",
         "2.62252405218047",
         "25.128417916666667",
         "84.04039358333334"
        ],
        [
         "4",
         "101117.80208333331",
         "28.27353333333335",
         "0.7170906058333334",
         "0.7126223141666667",
         "2.1361534046890327",
         "26.743072583333333",
         "72.33074641666667"
        ],
        [
         "5",
         "101031.52625",
         "28.273777500000023",
         "0.5330988545",
         "-0.9713236525",
         "1.7393881210460724",
         "25.53327433333333",
         "78.99588608333333"
        ],
        [
         "6",
         "101096.51041666669",
         "28.27400916666668",
         "0.5566190249999999",
         "0.7792625325000001",
         "2.0328587786813963",
         "27.8709615",
         "66.93453958333333"
        ],
        [
         "7",
         "101090.51041666669",
         "28.27424750000002",
         "0.9144846591666664",
         "-1.1065317785",
         "2.043453597351627",
         "26.306661166666668",
         "79.3646625"
        ],
        [
         "8",
         "101065.36958333332",
         "28.274484166666685",
         "-0.319602975",
         "0.7532386875",
         "2.7489647939754533",
         "27.904541",
         "64.585531"
        ],
        [
         "9",
         "101110.89041666668",
         "28.274720000000027",
         "0.4396425766666667",
         "-0.1051991691666666",
         "1.5994238823054774",
         "26.112101416666665",
         "81.49983358333334"
        ],
        [
         "10",
         "101141.64083333332",
         "28.27496083333336",
         "-0.3352127",
         "0.1495869920833333",
         "2.31109577303313",
         "28.11087058333333",
         "65.70539649999999"
        ],
        [
         "11",
         "101055.8175",
         "28.27519333333335",
         "1.3821245641666666",
         "-1.6292635391666668",
         "2.863663713734415",
         "26.11394258333333",
         "83.79940291666666"
        ],
        [
         "12",
         "101068.40625",
         "28.275429166666694",
         "-0.7071571083333333",
         "0.7971890841666668",
         "3.1303804059987743",
         "27.708913",
         "53.59760333333333"
        ],
        [
         "13",
         "100937.02625",
         "28.275671666666685",
         "1.0051307691666669",
         "-1.1769320291666667",
         "2.538999522231643",
         "25.599477166666663",
         "78.64674516666666"
        ],
        [
         "14",
         "100980.18208333332",
         "28.27590083333335",
         "-0.3249015838333333",
         "0.9040730783333334",
         "2.982231139642966",
         "27.388397333333334",
         "54.06131258333334"
        ],
        [
         "15",
         "100947.39083333332",
         "28.27614333333337",
         "0.5929908941666667",
         "-1.2293942741666666",
         "2.4429616899830537",
         "25.323598",
         "77.33571616666667"
        ],
        [
         "16",
         "101078.01083333332",
         "28.27637833333336",
         "-0.35265224",
         "2.2376454675",
         "3.157831903285466",
         "26.97610475",
         "62.48088758333333"
        ],
        [
         "17",
         "101118.14166666666",
         "28.27661333333336",
         "0.1523323049999999",
         "-0.5848363233333334",
         "1.93564087076424",
         "25.61976125",
         "76.441056"
        ],
        [
         "18",
         "101132.92666666668",
         "28.27685250000002",
         "1.3068199341666666",
         "-0.54357146775",
         "2.1832376990599656",
         "27.288086000000003",
         "64.53060441666666"
        ],
        [
         "19",
         "101015.33916666669",
         "28.277090000000022",
         "1.119016016166667",
         "-2.136133825",
         "2.703945741611101",
         "25.84240733333333",
         "73.900828"
        ],
        [
         "20",
         "101066.25541666668",
         "28.27732833333336",
         "0.6955464791666667",
         "-0.4138387011666666",
         "1.7204902883597282",
         "27.596466083333336",
         "63.52908933333333"
        ],
        [
         "21",
         "100915.3275",
         "28.27756000000002",
         "1.6233215391666669",
         "-2.6197853083333333",
         "3.1760959327145284",
         "26.513265",
         "75.4822535"
        ],
        [
         "22",
         "101043.4375",
         "28.277801666666686",
         "1.0624326075",
         "-0.1563211998333333",
         "2.2855035519015217",
         "27.702850416666667",
         "69.71442766666667"
        ],
        [
         "23",
         "101058.22958333332",
         "28.27803416666669",
         "1.0131352745",
         "-2.7206865916666665",
         "3.2637725237203683",
         "26.506367916666665",
         "76.84235566666668"
        ],
        [
         "24",
         "101083.01",
         "28.278271666666683",
         "0.1663691291666666",
         "0.3922971108333333",
         "2.2567163170198348",
         "28.383473666666664",
         "66.78100133333334"
        ],
        [
         "25",
         "101050.75416666668",
         "28.27851000000004",
         "1.1450284416666667",
         "-1.5140355533333334",
         "2.302418308687518",
         "26.531178916666665",
         "82.24680008333333"
        ],
        [
         "26",
         "101115.19208333331",
         "28.27874333333336",
         "0.9295425416666668",
         "-0.0942802545",
         "2.446761345703256",
         "28.23197441666667",
         "70.22770458333333"
        ],
        [
         "27",
         "101091.57916666666",
         "28.27898666666669",
         "0.90331015",
         "-1.5247637416666666",
         "2.2482114333509493",
         "26.29141241666667",
         "83.410053"
        ],
        [
         "28",
         "101206.5575",
         "28.279220000000027",
         "1.0222295033333333",
         "0.6329116779166667",
         "2.578209322215056",
         "27.67896525",
         "68.79857241666666"
        ],
        [
         "29",
         "101170.40625",
         "28.279451666666684",
         "0.8188082325",
         "-2.2491709416666668",
         "2.8130068090801497",
         "26.178253166666668",
         "82.13898291666666"
        ],
        [
         "30",
         "101153.85416666669",
         "28.279697500000022",
         "0.5647443166666667",
         "0.6821467083333334",
         "2.668183098401216",
         "27.451802583333333",
         "64.15694725"
        ],
        [
         "31",
         "101182.73416666668",
         "28.27992833333336",
         "0.3962402378333334",
         "-0.2523612958333333",
         "1.9272159888076672",
         "25.554718",
         "83.06641425"
        ],
        [
         "32",
         "101166.11958333332",
         "28.28016416666669",
         "-0.6829668575",
         "-0.228855133",
         "2.278329997778617",
         "28.108957916666668",
         "53.491692666666665"
        ],
        [
         "33",
         "101148.875",
         "28.280402500000037",
         "1.5829365975",
         "-0.6453526741666666",
         "2.446307595364205",
         "26.166666666666668",
         "72.50869725"
        ],
        [
         "34",
         "101193.0625",
         "28.28064083333336",
         "-0.3934249883333333",
         "0.0450401249999999",
         "2.725035128831889",
         "27.19551583333333",
         "50.1418185"
        ],
        [
         "35",
         "101111.77041666668",
         "28.280880000000025",
         "0.4869079341666666",
         "-1.614683796666667",
         "2.5368680870500846",
         "25.654754666666665",
         "62.70379"
        ],
        [
         "36",
         "101059.08958333332",
         "28.281110000000027",
         "0.0423812653333333",
         "-0.6585057541666667",
         "2.7911005872020183",
         "28.32261133333333",
         "46.83774016666666"
        ],
        [
         "37",
         "101065.98541666666",
         "28.281351666666684",
         "0.3928235499999999",
         "-1.1016464258333334",
         "2.1564112098300363",
         "26.27338658333333",
         "68.67230258333333"
        ],
        [
         "38",
         "101055.72375",
         "28.281590000000023",
         "-0.5958747666666666",
         "0.244862876",
         "3.1543757811885613",
         "28.30129",
         "48.68225533333333"
        ],
        [
         "39",
         "100986.60916666668",
         "28.281825833333357",
         "0.7362543675",
         "-1.3021138458333332",
         "2.5234439552284758",
         "25.76616425",
         "77.32416500000001"
        ],
        [
         "40",
         "100959.53125",
         "28.28206083333335",
         "-0.4999109949999999",
         "0.1011047255",
         "3.223383212072368",
         "27.97383608333333",
         "52.010355583333336"
        ],
        [
         "41",
         "100945.40625",
         "28.282294166666684",
         "0.2852439841666667",
         "0.4371426845",
         "1.5843141514695953",
         "25.14287308333333",
         "80.570657"
        ],
        [
         "42",
         "100945.83875",
         "28.28253833333336",
         "0.9170557783333332",
         "-0.07244745825",
         "2.0608854145201527",
         "26.940989166666668",
         "66.59095875"
        ],
        [
         "43",
         "100904.65625",
         "28.2827691666667",
         "1.2509574816666666",
         "-1.5624084391666668",
         "2.4254244683997728",
         "25.04192108333333",
         "83.15149058333334"
        ],
        [
         "44",
         "100915.71333333332",
         "28.283002500000027",
         "1.59206262",
         "-0.7194506450000001",
         "2.1004043112524244",
         "27.333608",
         "66.97429533333333"
        ],
        [
         "45",
         "100851.69791666669",
         "28.28324916666668",
         "0.6238238011666667",
         "-1.7832170975",
         "2.3134674109075912",
         "26.108622333333333",
         "76.74508691666666"
        ],
        [
         "46",
         "100874.21333333332",
         "28.283480000000026",
         "0.4452984941666666",
         "1.47011185",
         "2.8716950362509333",
         "28.05050675",
         "64.69670741666667"
        ],
        [
         "47",
         "100930.72375",
         "28.28371916666669",
         "0.5332654474999999",
         "0.6587015733333333",
         "1.7738932711212358",
         "26.581451333333334",
         "80.2905675"
        ],
        [
         "48",
         "100993.45833333331",
         "28.283956666666693",
         "0.9019050858333334",
         "0.2495842008333333",
         "2.264559114247505",
         "28.093038000000004",
         "70.43527683333333"
        ],
        [
         "49",
         "100860.33333333331",
         "28.28419083333336",
         "1.4740829533333333",
         "-1.365287775",
         "2.2160790117374085",
         "26.892395083333337",
         "79.41556116666666"
        ]
       ],
       "shape": {
        "columns": 7,
        "rows": 14610
       }
      },
      "text/html": [
       "<div>\n",
       "<style scoped>\n",
       "    .dataframe tbody tr th:only-of-type {\n",
       "        vertical-align: middle;\n",
       "    }\n",
       "\n",
       "    .dataframe tbody tr th {\n",
       "        vertical-align: top;\n",
       "    }\n",
       "\n",
       "    .dataframe thead th {\n",
       "        text-align: right;\n",
       "    }\n",
       "</style>\n",
       "<table border=\"1\" class=\"dataframe\">\n",
       "  <thead>\n",
       "    <tr style=\"text-align: right;\">\n",
       "      <th></th>\n",
       "      <th>msl</th>\n",
       "      <th>sst</th>\n",
       "      <th>u10</th>\n",
       "      <th>v10</th>\n",
       "      <th>ws</th>\n",
       "      <th>t2m</th>\n",
       "      <th>rh</th>\n",
       "    </tr>\n",
       "  </thead>\n",
       "  <tbody>\n",
       "    <tr>\n",
       "      <th>0</th>\n",
       "      <td>101039.109583</td>\n",
       "      <td>28.272592</td>\n",
       "      <td>1.037604</td>\n",
       "      <td>0.896062</td>\n",
       "      <td>1.939804</td>\n",
       "      <td>26.803986</td>\n",
       "      <td>73.887538</td>\n",
       "    </tr>\n",
       "    <tr>\n",
       "      <th>1</th>\n",
       "      <td>100965.890833</td>\n",
       "      <td>28.272828</td>\n",
       "      <td>0.194436</td>\n",
       "      <td>-0.214739</td>\n",
       "      <td>1.141202</td>\n",
       "      <td>25.138509</td>\n",
       "      <td>83.937153</td>\n",
       "    </tr>\n",
       "    <tr>\n",
       "      <th>2</th>\n",
       "      <td>101071.947917</td>\n",
       "      <td>28.273067</td>\n",
       "      <td>0.558675</td>\n",
       "      <td>0.170728</td>\n",
       "      <td>1.734705</td>\n",
       "      <td>26.279419</td>\n",
       "      <td>74.863584</td>\n",
       "    </tr>\n",
       "    <tr>\n",
       "      <th>3</th>\n",
       "      <td>101039.702917</td>\n",
       "      <td>28.273300</td>\n",
       "      <td>0.808412</td>\n",
       "      <td>-2.010220</td>\n",
       "      <td>2.622524</td>\n",
       "      <td>25.128418</td>\n",
       "      <td>84.040394</td>\n",
       "    </tr>\n",
       "    <tr>\n",
       "      <th>4</th>\n",
       "      <td>101117.802083</td>\n",
       "      <td>28.273533</td>\n",
       "      <td>0.717091</td>\n",
       "      <td>0.712622</td>\n",
       "      <td>2.136153</td>\n",
       "      <td>26.743073</td>\n",
       "      <td>72.330746</td>\n",
       "    </tr>\n",
       "    <tr>\n",
       "      <th>...</th>\n",
       "      <td>...</td>\n",
       "      <td>...</td>\n",
       "      <td>...</td>\n",
       "      <td>...</td>\n",
       "      <td>...</td>\n",
       "      <td>...</td>\n",
       "      <td>...</td>\n",
       "    </tr>\n",
       "    <tr>\n",
       "      <th>14605</th>\n",
       "      <td>100973.963333</td>\n",
       "      <td>28.912908</td>\n",
       "      <td>0.521464</td>\n",
       "      <td>-1.403238</td>\n",
       "      <td>2.058452</td>\n",
       "      <td>26.403300</td>\n",
       "      <td>78.755252</td>\n",
       "    </tr>\n",
       "    <tr>\n",
       "      <th>14606</th>\n",
       "      <td>100937.531250</td>\n",
       "      <td>28.912930</td>\n",
       "      <td>0.568345</td>\n",
       "      <td>0.692294</td>\n",
       "      <td>2.213831</td>\n",
       "      <td>28.458028</td>\n",
       "      <td>67.264623</td>\n",
       "    </tr>\n",
       "    <tr>\n",
       "      <th>14607</th>\n",
       "      <td>100930.057083</td>\n",
       "      <td>28.912940</td>\n",
       "      <td>1.460920</td>\n",
       "      <td>0.161879</td>\n",
       "      <td>1.603188</td>\n",
       "      <td>27.781291</td>\n",
       "      <td>76.586642</td>\n",
       "    </tr>\n",
       "    <tr>\n",
       "      <th>14608</th>\n",
       "      <td>101036.900417</td>\n",
       "      <td>28.912960</td>\n",
       "      <td>-0.214331</td>\n",
       "      <td>0.662896</td>\n",
       "      <td>1.733335</td>\n",
       "      <td>28.328796</td>\n",
       "      <td>72.123742</td>\n",
       "    </tr>\n",
       "    <tr>\n",
       "      <th>14609</th>\n",
       "      <td>101035.006250</td>\n",
       "      <td>28.912973</td>\n",
       "      <td>-0.723323</td>\n",
       "      <td>0.631653</td>\n",
       "      <td>1.296341</td>\n",
       "      <td>26.555908</td>\n",
       "      <td>84.792877</td>\n",
       "    </tr>\n",
       "  </tbody>\n",
       "</table>\n",
       "<p>14610 rows × 7 columns</p>\n",
       "</div>"
      ],
      "text/plain": [
       "                 msl        sst       u10       v10        ws        t2m  \\\n",
       "0      101039.109583  28.272592  1.037604  0.896062  1.939804  26.803986   \n",
       "1      100965.890833  28.272828  0.194436 -0.214739  1.141202  25.138509   \n",
       "2      101071.947917  28.273067  0.558675  0.170728  1.734705  26.279419   \n",
       "3      101039.702917  28.273300  0.808412 -2.010220  2.622524  25.128418   \n",
       "4      101117.802083  28.273533  0.717091  0.712622  2.136153  26.743073   \n",
       "...              ...        ...       ...       ...       ...        ...   \n",
       "14605  100973.963333  28.912908  0.521464 -1.403238  2.058452  26.403300   \n",
       "14606  100937.531250  28.912930  0.568345  0.692294  2.213831  28.458028   \n",
       "14607  100930.057083  28.912940  1.460920  0.161879  1.603188  27.781291   \n",
       "14608  101036.900417  28.912960 -0.214331  0.662896  1.733335  28.328796   \n",
       "14609  101035.006250  28.912973 -0.723323  0.631653  1.296341  26.555908   \n",
       "\n",
       "              rh  \n",
       "0      73.887538  \n",
       "1      83.937153  \n",
       "2      74.863584  \n",
       "3      84.040394  \n",
       "4      72.330746  \n",
       "...          ...  \n",
       "14605  78.755252  \n",
       "14606  67.264623  \n",
       "14607  76.586642  \n",
       "14608  72.123742  \n",
       "14609  84.792877  \n",
       "\n",
       "[14610 rows x 7 columns]"
      ]
     },
     "execution_count": 24,
     "metadata": {},
     "output_type": "execute_result"
    }
   ],
   "source": [
    "X=df.drop(columns=['tp'])\n",
    "X"
   ]
  },
  {
   "cell_type": "code",
   "execution_count": 25,
   "id": "1fca4ad6",
   "metadata": {},
   "outputs": [
    {
     "data": {
      "application/vnd.microsoft.datawrangler.viewer.v0+json": {
       "columns": [
        {
         "name": "index",
         "rawType": "int64",
         "type": "integer"
        },
        {
         "name": "tp",
         "rawType": "float64",
         "type": "float"
        }
       ],
       "ref": "8161a82c-98c4-4afa-acab-e9a41a019583",
       "rows": [
        [
         "0",
         "0.10395049956"
        ],
        [
         "1",
         "0.00143051146"
        ],
        [
         "2",
         "0.1039504991"
        ],
        [
         "3",
         "0.0"
        ],
        [
         "4",
         "0.0"
        ],
        [
         "5",
         "0.0"
        ],
        [
         "6",
         "0.0019073486599999"
        ],
        [
         "7",
         "0.008583069"
        ],
        [
         "8",
         "0.0"
        ],
        [
         "9",
         "0.0"
        ],
        [
         "10",
         "0.0"
        ],
        [
         "11",
         "0.0"
        ],
        [
         "12",
         "0.0"
        ],
        [
         "13",
         "0.0"
        ],
        [
         "14",
         "0.0"
        ],
        [
         "15",
         "0.0"
        ],
        [
         "16",
         "0.0"
        ],
        [
         "17",
         "0.0"
        ],
        [
         "18",
         "0.0"
        ],
        [
         "19",
         "0.0"
        ],
        [
         "20",
         "0.0"
        ],
        [
         "21",
         "0.0"
        ],
        [
         "22",
         "0.0"
        ],
        [
         "23",
         "0.0"
        ],
        [
         "24",
         "0.042915345"
        ],
        [
         "25",
         "0.1997947679999999"
        ],
        [
         "26",
         "0.08296966546"
        ],
        [
         "27",
         "0.0"
        ],
        [
         "28",
         "0.0014305115"
        ],
        [
         "29",
         "0.0"
        ],
        [
         "30",
         "0.0"
        ],
        [
         "31",
         "0.0"
        ],
        [
         "32",
         "0.0"
        ],
        [
         "33",
         "0.0"
        ],
        [
         "34",
         "0.0"
        ],
        [
         "35",
         "0.0"
        ],
        [
         "36",
         "0.0"
        ],
        [
         "37",
         "0.0"
        ],
        [
         "38",
         "0.0"
        ],
        [
         "39",
         "0.0"
        ],
        [
         "40",
         "0.0"
        ],
        [
         "41",
         "0.0"
        ],
        [
         "42",
         "0.0"
        ],
        [
         "43",
         "0.0"
        ],
        [
         "44",
         "0.0"
        ],
        [
         "45",
         "0.0"
        ],
        [
         "46",
         "0.0"
        ],
        [
         "47",
         "0.00524520876"
        ],
        [
         "48",
         "0.00905990576"
        ],
        [
         "49",
         "0.0"
        ]
       ],
       "shape": {
        "columns": 1,
        "rows": 14610
       }
      },
      "text/plain": [
       "0        0.103950\n",
       "1        0.001431\n",
       "2        0.103950\n",
       "3        0.000000\n",
       "4        0.000000\n",
       "           ...   \n",
       "14605    0.000000\n",
       "14606    0.000000\n",
       "14607    0.683308\n",
       "14608    1.217842\n",
       "14609    5.344391\n",
       "Name: tp, Length: 14610, dtype: float64"
      ]
     },
     "execution_count": 25,
     "metadata": {},
     "output_type": "execute_result"
    }
   ],
   "source": [
    "y=df['tp']\n",
    "y"
   ]
  },
  {
   "cell_type": "code",
   "execution_count": 26,
   "id": "3b6c1a11",
   "metadata": {},
   "outputs": [],
   "source": [
    "X_train, X_test, y_train, y_test = train_test_split(X, y, test_size=0.2, random_state=42)"
   ]
  },
  {
   "cell_type": "code",
   "execution_count": 27,
   "id": "dd051b17",
   "metadata": {},
   "outputs": [
    {
     "name": "stdout",
     "output_type": "stream",
     "text": [
      "X_train shape: (11688, 7)\n",
      "X_test shape: (2922, 7)\n"
     ]
    }
   ],
   "source": [
    "print(\"X_train shape:\", X_train.shape)\n",
    "print(\"X_test shape:\", X_test.shape)"
   ]
  },
  {
   "cell_type": "code",
   "execution_count": 28,
   "id": "70a3fd7d",
   "metadata": {},
   "outputs": [],
   "source": [
    "scaler=StandardScaler()\n",
    "X_train_scaled=scaler.fit_transform(X_train)\n",
    "X_test_scaled=scaler.transform(X_test)"
   ]
  },
  {
   "cell_type": "code",
   "execution_count": 29,
   "id": "53c95702",
   "metadata": {},
   "outputs": [
    {
     "name": "stdout",
     "output_type": "stream",
     "text": [
      "X_train_scaled shape: (11688, 7)\n",
      "X_test_scaled shape: (2922, 7)\n"
     ]
    }
   ],
   "source": [
    "print(\"X_train_scaled shape:\", X_train_scaled.shape)\n",
    "print(\"X_test_scaled shape:\", X_test_scaled.shape)"
   ]
  },
  {
   "cell_type": "code",
   "execution_count": 30,
   "id": "e13b99fe",
   "metadata": {},
   "outputs": [
    {
     "data": {
      "application/vnd.microsoft.datawrangler.viewer.v0+json": {
       "columns": [
        {
         "name": "index",
         "rawType": "int64",
         "type": "integer"
        },
        {
         "name": "msl",
         "rawType": "float64",
         "type": "float"
        },
        {
         "name": "sst",
         "rawType": "float64",
         "type": "float"
        },
        {
         "name": "u10",
         "rawType": "float64",
         "type": "float"
        },
        {
         "name": "v10",
         "rawType": "float64",
         "type": "float"
        },
        {
         "name": "ws",
         "rawType": "float64",
         "type": "float"
        },
        {
         "name": "t2m",
         "rawType": "float64",
         "type": "float"
        },
        {
         "name": "rh",
         "rawType": "float64",
         "type": "float"
        }
       ],
       "ref": "a7e37465-fe77-4731-a2f7-fc20fdb06bfd",
       "rows": [
        [
         "13784",
         "101072.0725",
         "28.780757500000025",
         "-0.6620152833333334",
         "-0.1649042671666666",
         "2.13815919539344",
         "28.94017525",
         "72.69903858333333"
        ],
        [
         "1369",
         "101079.30708333332",
         "28.916205000000023",
         "0.1425615883333333",
         "-0.2989184070833333",
         "1.2050210019668484",
         "26.53250125",
         "86.07005875"
        ],
        [
         "740",
         "101205.79166666669",
         "27.25995833333336",
         "1.2509892791666666",
         "-1.3245137591666667",
         "2.429116861959456",
         "27.82991533333333",
         "62.43568025"
        ],
        [
         "8401",
         "100538.635",
         "28.06351500000002",
         "5.0453364333333335",
         "0.0158780421666666",
         "5.078081276461007",
         "25.00113933333333",
         "90.40177875"
        ],
        [
         "3509",
         "100886.94791666669",
         "28.27705750000003",
         "-0.1598383575833333",
         "0.34329351125",
         "0.6680972519541505",
         "26.3403525",
         "86.92382216666668"
        ],
        [
         "1188",
         "100993.66166666668",
         "28.439605000000014",
         "3.4930013166666662",
         "-0.2702840116666666",
         "3.5434527077739246",
         "26.45333875",
         "87.31795341666667"
        ],
        [
         "13249",
         "101398.24541666669",
         "28.953337500000035",
         "1.0370559776666666",
         "-1.790264128875",
         "2.502109069890524",
         "27.255605083333336",
         "71.98567991666667"
        ],
        [
         "11042",
         "101224.08875",
         "28.36442583333336",
         "1.9652036246666664",
         "-3.1098544",
         "4.102429670085024",
         "27.83222458333333",
         "66.20748941666666"
        ],
        [
         "1570",
         "101220.27583333332",
         "27.686234166666683",
         "1.9706662475",
         "-0.1745430659666667",
         "2.412199493432884",
         "27.913025",
         "78.06346791666667"
        ],
        [
         "9174",
         "100817.38541666669",
         "28.38895250000003",
         "6.051677683333334",
         "2.14007695",
         "6.434832314381192",
         "25.70483408333333",
         "89.53293908333335"
        ],
        [
         "4176",
         "101007.27625",
         "28.07057916666669",
         "2.6434161",
         "2.549816125",
         "3.715787025963721",
         "25.95052083333333",
         "88.4132805"
        ],
        [
         "2527",
         "100829.5375",
         "28.28442166666669",
         "4.888851183333333",
         "2.1829566833333334",
         "5.358652491461016",
         "26.971720416666667",
         "84.65126791666667"
        ],
        [
         "2127",
         "101155.87041666669",
         "28.632635000000025",
         "0.2847900256333333",
         "-0.4189237029166666",
         "1.813026734662488",
         "26.391601583333337",
         "82.57345091666666"
        ],
        [
         "9813",
         "100499.94208333331",
         "28.39521333333336",
         "0.1480700146666666",
         "3.8150850916666665",
         "3.902918058563421",
         "26.80181883333333",
         "91.14533608333332"
        ],
        [
         "2764",
         "101285.9575",
         "28.548837500000012",
         "0.8482780416666666",
         "-1.2697677525",
         "1.940331876543932",
         "26.991800916666666",
         "83.46154283333333"
        ],
        [
         "3837",
         "100908.73375",
         "28.137035000000026",
         "1.7590866191666663",
         "-1.9609883716666667",
         "2.985686281812537",
         "28.7869365",
         "73.50261433333334"
        ],
        [
         "11818",
         "100853.5625",
         "28.139977500000025",
         "1.89363608",
         "-1.0807965616666666",
         "2.7003140918316237",
         "28.55932625",
         "60.66357058333333"
        ],
        [
         "7144",
         "101094.85875",
         "29.179412500000023",
         "-0.4356498666666666",
         "2.3147392416666666",
         "2.735998196626614",
         "26.540445916666663",
         "85.30223158333332"
        ],
        [
         "11227",
         "100746.09375",
         "28.664162500000028",
         "0.61855697",
         "0.3498560675",
         "2.320646620850112",
         "27.76601158333333",
         "88.88677708333334"
        ],
        [
         "5727",
         "101079.58875",
         "28.368290000000027",
         "-0.0775451741666666",
         "-1.0238240525",
         "1.6898259762433463",
         "25.99279783333333",
         "81.6964055"
        ],
        [
         "8687",
         "100965.84833333331",
         "28.042185000000018",
         "0.5090738916666667",
         "-1.3673617133333331",
         "1.7366122353611948",
         "26.828348833333333",
         "86.21101966666667"
        ],
        [
         "1981",
         "101181.5625",
         "28.38456666666669",
         "0.7955296866666667",
         "-0.6150487225",
         "1.8426820403100308",
         "25.12447125",
         "91.25538966666666"
        ],
        [
         "9699",
         "100906.79208333332",
         "28.35441166666669",
         "1.8005879503333333",
         "-1.5552953083333332",
         "2.614168237191032",
         "28.660593833333333",
         "80.78855783333334"
        ],
        [
         "3728",
         "101282.88458333332",
         "28.15839833333336",
         "0.6573270225",
         "0.1295750908333333",
         "2.5255598163816657",
         "27.396199416666665",
         "53.999866"
        ],
        [
         "10347",
         "101212.82291666669",
         "28.950552500000036",
         "1.4178962591666666",
         "-3.5958099166666666",
         "4.086014898756747",
         "27.20132425",
         "76.09262366666667"
        ],
        [
         "5635",
         "100908.66166666668",
         "28.34565083333336",
         "2.4194196",
         "0.7473322658333333",
         "2.634317726336857",
         "25.5118",
         "89.0109015"
        ],
        [
         "7685",
         "101019.77625",
         "28.002270000000024",
         "2.5009867",
         "-1.0846125308333334",
         "2.8763659765719667",
         "25.150665333333333",
         "91.73787166666666"
        ],
        [
         "2057",
         "100972.64541666668",
         "28.513698333333352",
         "0.9425849991666668",
         "-2.24590555",
         "2.4932846667723987",
         "25.165618750000004",
         "82.98345275000001"
        ],
        [
         "5711",
         "100964.59875",
         "28.36434916666669",
         "-0.4358431458333333",
         "-0.2548853554166666",
         "0.6191828399223659",
         "25.175882833333333",
         "87.98920299999999"
        ],
        [
         "6577",
         "101262.58791666666",
         "28.31428833333335",
         "0.9932747008333332",
         "-1.2335281270833334",
         "2.2679475726649154",
         "26.69675708333333",
         "86.28860283333334"
        ],
        [
         "12527",
         "101070.50041666666",
         "28.479029166666688",
         "0.859271995",
         "-0.6667976388333333",
         "2.1867809264822125",
         "27.00986733333333",
         "82.14888041666667"
        ],
        [
         "8400",
         "100591.67125",
         "28.06359166666667",
         "5.345264458333333",
         "1.4661399666666668",
         "5.564132951436427",
         "25.1674905",
         "89.67196041666666"
        ],
        [
         "11405",
         "101109.89041666668",
         "28.95255833333336",
         "2.2492764666666667",
         "-1.9886601583333332",
         "3.035468882590173",
         "25.562764416666667",
         "90.52954416666668"
        ],
        [
         "11084",
         "101107.24",
         "28.43247416666669",
         "1.3307253615",
         "0.9217529341666668",
         "2.3435204025353684",
         "29.7266845",
         "72.15780766666667"
        ],
        [
         "12569",
         "100934.63041666668",
         "28.461917500000023",
         "1.378417982",
         "-0.7985293066666667",
         "2.06741298818984",
         "27.84802258333333",
         "81.42711708333333"
        ],
        [
         "14374",
         "100674.17208333332",
         "28.90930000000003",
         "-0.4913724246666667",
         "1.7359199558333334",
         "2.3559125136385743",
         "27.6661275",
         "81.8817765"
        ],
        [
         "6174",
         "101007.95333333332",
         "28.93443916666668",
         "0.1740188548333333",
         "3.0094922416666665",
         "3.150205006291124",
         "26.01166783333333",
         "88.45621208333334"
        ],
        [
         "10296",
         "101300.74958333334",
         "29.00314250000002",
         "-0.264270775",
         "0.6741142445",
         "2.888781267811155",
         "28.09779875",
         "57.688160833333335"
        ],
        [
         "9027",
         "100681.45833333331",
         "28.3702991666667",
         "3.0491383833333336",
         "-1.0341847633333334",
         "3.265697337281812",
         "29.13294491666667",
         "72.97393966666667"
        ],
        [
         "12722",
         "100718.63541666669",
         "28.39958416666669",
         "-0.6357472780858333",
         "2.5482584666666668",
         "2.9044580639443747",
         "27.730255166666662",
         "84.3522725"
        ],
        [
         "6271",
         "100979.14125",
         "28.911250000000013",
         "1.6741307416666666",
         "-1.7973264",
         "2.513394548454956",
         "25.91888433333333",
         "89.69654333333334"
        ],
        [
         "1710",
         "100933.32791666668",
         "27.92411083333336",
         "1.6599756858333334",
         "-0.0774256374999999",
         "1.9629897968111836",
         "27.33695458333333",
         "86.84268275"
        ],
        [
         "9564",
         "100914.12041666669",
         "28.306075833333363",
         "0.7395121308333333",
         "0.8709373525",
         "2.4444072143818345",
         "27.692972666666662",
         "71.73638408333333"
        ],
        [
         "8900",
         "101240.02541666666",
         "28.354182500000025",
         "1.24838893",
         "0.62760162",
         "2.0138704178611504",
         "28.37062566666667",
         "78.79255733333333"
        ],
        [
         "8009",
         "101075.08333333331",
         "27.92372000000002",
         "0.5081532858333334",
         "-1.887269320833333",
         "2.433387613828269",
         "25.52928683333333",
         "65.567122"
        ],
        [
         "562",
         "100972.17125",
         "28.405654166666693",
         "-0.0937550858333333",
         "2.561973575",
         "2.909057233840599",
         "26.656819666666667",
         "82.10804"
        ],
        [
         "3772",
         "100931.02666666669",
         "28.14977083333336",
         "1.2668622286666666",
         "-0.0330950458333333",
         "2.3385116462159075",
         "29.16448983333333",
         "65.85209683333333"
        ],
        [
         "10196",
         "101084.02999999998",
         "28.53232583333336",
         "-0.5236638524999999",
         "-1.1403249116666667",
         "2.415427518963244",
         "28.61770633333333",
         "70.66131925"
        ],
        [
         "640",
         "101146.13083333334",
         "28.424122500000035",
         "-0.1473757541666666",
         "0.8891474458333333",
         "1.6665803299683226",
         "27.075500416666667",
         "79.55246425"
        ],
        [
         "1669",
         "100968.01041666669",
         "27.85444583333336",
         "0.7344347634666666",
         "-0.4297650673333333",
         "1.2375365425678777",
         "29.118418416666668",
         "80.78531541666666"
        ]
       ],
       "shape": {
        "columns": 7,
        "rows": 11688
       }
      },
      "text/html": [
       "<div>\n",
       "<style scoped>\n",
       "    .dataframe tbody tr th:only-of-type {\n",
       "        vertical-align: middle;\n",
       "    }\n",
       "\n",
       "    .dataframe tbody tr th {\n",
       "        vertical-align: top;\n",
       "    }\n",
       "\n",
       "    .dataframe thead th {\n",
       "        text-align: right;\n",
       "    }\n",
       "</style>\n",
       "<table border=\"1\" class=\"dataframe\">\n",
       "  <thead>\n",
       "    <tr style=\"text-align: right;\">\n",
       "      <th></th>\n",
       "      <th>msl</th>\n",
       "      <th>sst</th>\n",
       "      <th>u10</th>\n",
       "      <th>v10</th>\n",
       "      <th>ws</th>\n",
       "      <th>t2m</th>\n",
       "      <th>rh</th>\n",
       "    </tr>\n",
       "  </thead>\n",
       "  <tbody>\n",
       "    <tr>\n",
       "      <th>13784</th>\n",
       "      <td>101072.072500</td>\n",
       "      <td>28.780758</td>\n",
       "      <td>-0.662015</td>\n",
       "      <td>-0.164904</td>\n",
       "      <td>2.138159</td>\n",
       "      <td>28.940175</td>\n",
       "      <td>72.699039</td>\n",
       "    </tr>\n",
       "    <tr>\n",
       "      <th>1369</th>\n",
       "      <td>101079.307083</td>\n",
       "      <td>28.916205</td>\n",
       "      <td>0.142562</td>\n",
       "      <td>-0.298918</td>\n",
       "      <td>1.205021</td>\n",
       "      <td>26.532501</td>\n",
       "      <td>86.070059</td>\n",
       "    </tr>\n",
       "    <tr>\n",
       "      <th>740</th>\n",
       "      <td>101205.791667</td>\n",
       "      <td>27.259958</td>\n",
       "      <td>1.250989</td>\n",
       "      <td>-1.324514</td>\n",
       "      <td>2.429117</td>\n",
       "      <td>27.829915</td>\n",
       "      <td>62.435680</td>\n",
       "    </tr>\n",
       "    <tr>\n",
       "      <th>8401</th>\n",
       "      <td>100538.635000</td>\n",
       "      <td>28.063515</td>\n",
       "      <td>5.045336</td>\n",
       "      <td>0.015878</td>\n",
       "      <td>5.078081</td>\n",
       "      <td>25.001139</td>\n",
       "      <td>90.401779</td>\n",
       "    </tr>\n",
       "    <tr>\n",
       "      <th>3509</th>\n",
       "      <td>100886.947917</td>\n",
       "      <td>28.277058</td>\n",
       "      <td>-0.159838</td>\n",
       "      <td>0.343294</td>\n",
       "      <td>0.668097</td>\n",
       "      <td>26.340353</td>\n",
       "      <td>86.923822</td>\n",
       "    </tr>\n",
       "    <tr>\n",
       "      <th>...</th>\n",
       "      <td>...</td>\n",
       "      <td>...</td>\n",
       "      <td>...</td>\n",
       "      <td>...</td>\n",
       "      <td>...</td>\n",
       "      <td>...</td>\n",
       "      <td>...</td>\n",
       "    </tr>\n",
       "    <tr>\n",
       "      <th>5191</th>\n",
       "      <td>101021.926250</td>\n",
       "      <td>28.236376</td>\n",
       "      <td>2.040812</td>\n",
       "      <td>-3.564106</td>\n",
       "      <td>4.227699</td>\n",
       "      <td>25.025553</td>\n",
       "      <td>72.481811</td>\n",
       "    </tr>\n",
       "    <tr>\n",
       "      <th>13418</th>\n",
       "      <td>101028.490000</td>\n",
       "      <td>28.898825</td>\n",
       "      <td>2.754026</td>\n",
       "      <td>-2.335948</td>\n",
       "      <td>4.037164</td>\n",
       "      <td>30.072286</td>\n",
       "      <td>69.583138</td>\n",
       "    </tr>\n",
       "    <tr>\n",
       "      <th>5390</th>\n",
       "      <td>100865.176250</td>\n",
       "      <td>28.285353</td>\n",
       "      <td>1.522905</td>\n",
       "      <td>0.892197</td>\n",
       "      <td>1.949633</td>\n",
       "      <td>28.693878</td>\n",
       "      <td>78.011280</td>\n",
       "    </tr>\n",
       "    <tr>\n",
       "      <th>860</th>\n",
       "      <td>101172.546667</td>\n",
       "      <td>27.575933</td>\n",
       "      <td>1.755474</td>\n",
       "      <td>-0.069731</td>\n",
       "      <td>1.994844</td>\n",
       "      <td>28.896739</td>\n",
       "      <td>72.023581</td>\n",
       "    </tr>\n",
       "    <tr>\n",
       "      <th>7270</th>\n",
       "      <td>100942.537500</td>\n",
       "      <td>29.371663</td>\n",
       "      <td>0.768850</td>\n",
       "      <td>-1.084300</td>\n",
       "      <td>2.302385</td>\n",
       "      <td>26.216034</td>\n",
       "      <td>73.793713</td>\n",
       "    </tr>\n",
       "  </tbody>\n",
       "</table>\n",
       "<p>11688 rows × 7 columns</p>\n",
       "</div>"
      ],
      "text/plain": [
       "                 msl        sst       u10       v10        ws        t2m  \\\n",
       "13784  101072.072500  28.780758 -0.662015 -0.164904  2.138159  28.940175   \n",
       "1369   101079.307083  28.916205  0.142562 -0.298918  1.205021  26.532501   \n",
       "740    101205.791667  27.259958  1.250989 -1.324514  2.429117  27.829915   \n",
       "8401   100538.635000  28.063515  5.045336  0.015878  5.078081  25.001139   \n",
       "3509   100886.947917  28.277058 -0.159838  0.343294  0.668097  26.340353   \n",
       "...              ...        ...       ...       ...       ...        ...   \n",
       "5191   101021.926250  28.236376  2.040812 -3.564106  4.227699  25.025553   \n",
       "13418  101028.490000  28.898825  2.754026 -2.335948  4.037164  30.072286   \n",
       "5390   100865.176250  28.285353  1.522905  0.892197  1.949633  28.693878   \n",
       "860    101172.546667  27.575933  1.755474 -0.069731  1.994844  28.896739   \n",
       "7270   100942.537500  29.371663  0.768850 -1.084300  2.302385  26.216034   \n",
       "\n",
       "              rh  \n",
       "13784  72.699039  \n",
       "1369   86.070059  \n",
       "740    62.435680  \n",
       "8401   90.401779  \n",
       "3509   86.923822  \n",
       "...          ...  \n",
       "5191   72.481811  \n",
       "13418  69.583138  \n",
       "5390   78.011280  \n",
       "860    72.023581  \n",
       "7270   73.793713  \n",
       "\n",
       "[11688 rows x 7 columns]"
      ]
     },
     "execution_count": 30,
     "metadata": {},
     "output_type": "execute_result"
    }
   ],
   "source": [
    "X_train"
   ]
  },
  {
   "cell_type": "code",
   "execution_count": 31,
   "id": "44f3fe54",
   "metadata": {},
   "outputs": [
    {
     "data": {
      "text/plain": [
       "array([[ 0.47329165,  0.97111049, -1.44349095, ..., -0.53160591,\n",
       "         1.38782551, -0.83251445],\n",
       "       [ 0.51247428,  1.33911177, -0.87493745, ..., -1.43744628,\n",
       "        -0.33685346,  0.57754406],\n",
       "       [ 1.19751695, -3.16079323, -0.09166806, ..., -0.24915986,\n",
       "         0.5925177 , -1.9148504 ],\n",
       "       ...,\n",
       "       [-0.64726199, -0.37486757,  0.10048072, ..., -0.71461676,\n",
       "         1.21139656, -0.27230504],\n",
       "       [ 1.01746146, -2.30231151,  0.26482566, ..., -0.6707288 ,\n",
       "         1.35671071, -0.9037457 ],\n",
       "       [-0.22827213,  2.57655757, -0.43237155, ..., -0.37218463,\n",
       "        -0.56354706, -0.71707411]])"
      ]
     },
     "execution_count": 31,
     "metadata": {},
     "output_type": "execute_result"
    }
   ],
   "source": [
    "X_train_scaled"
   ]
  },
  {
   "cell_type": "code",
   "execution_count": null,
   "id": "a9a38c89",
   "metadata": {},
   "outputs": [],
   "source": []
  }
 ],
 "metadata": {
  "kernelspec": {
   "display_name": "Python 3",
   "language": "python",
   "name": "python3"
  },
  "language_info": {
   "codemirror_mode": {
    "name": "ipython",
    "version": 3
   },
   "file_extension": ".py",
   "mimetype": "text/x-python",
   "name": "python",
   "nbconvert_exporter": "python",
   "pygments_lexer": "ipython3",
   "version": "3.11.9"
  }
 },
 "nbformat": 4,
 "nbformat_minor": 5
}
