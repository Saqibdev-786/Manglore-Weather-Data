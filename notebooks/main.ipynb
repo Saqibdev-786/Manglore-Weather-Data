{
 "cells": [
  {
   "cell_type": "markdown",
   "id": "a30e3ba2",
   "metadata": {},
   "source": [
    "### **Start**"
   ]
  },
  {
   "cell_type": "markdown",
   "id": "79f78b2b",
   "metadata": {},
   "source": [
    "Documentatiions of all the packages used:\n",
    "\n",
    "pandas: https://pandas.pydata.org/docs/#module-pandas\n",
    "\n",
    "numpy: https://numpy.org/doc/stable/\n",
    "\n",
    "matplotlib: https://matplotlib.org/stable/index.html\n",
    "\n",
    "seaborn: https://seaborn.pydata.org/tutorial.html"
   ]
  },
  {
   "cell_type": "markdown",
   "id": "699d0944",
   "metadata": {},
   "source": [
    "Importing the packages for EDA"
   ]
  },
  {
   "cell_type": "code",
   "execution_count": 24,
   "id": "0f9bed28",
   "metadata": {},
   "outputs": [],
   "source": [
    "import pandas as pd\n",
    "import numpy as np\n",
    "import matplotlib.pyplot as plt\n",
    "import seaborn as sns"
   ]
  },
  {
   "cell_type": "markdown",
   "id": "3f73237d",
   "metadata": {},
   "source": [
    "**Load the Dataset**"
   ]
  },
  {
   "cell_type": "code",
   "execution_count": 25,
   "id": "b332ee79",
   "metadata": {},
   "outputs": [
    {
     "data": {
      "application/vnd.microsoft.datawrangler.viewer.v0+json": {
       "columns": [
        {
         "name": "index",
         "rawType": "int64",
         "type": "integer"
        },
        {
         "name": "msl",
         "rawType": "float64",
         "type": "float"
        },
        {
         "name": "sst",
         "rawType": "float64",
         "type": "float"
        },
        {
         "name": "u10",
         "rawType": "float64",
         "type": "float"
        },
        {
         "name": "v10",
         "rawType": "float64",
         "type": "float"
        },
        {
         "name": "ws",
         "rawType": "float64",
         "type": "float"
        },
        {
         "name": "t2m",
         "rawType": "float64",
         "type": "float"
        },
        {
         "name": "rh",
         "rawType": "float64",
         "type": "float"
        },
        {
         "name": "tp",
         "rawType": "float64",
         "type": "float"
        }
       ],
       "ref": "52738429-e988-46f7-8bd0-d6b80764d088",
       "rows": [
        [
         "0",
         "101039.10958333332",
         "28.27259166666669",
         "1.03760402",
         "0.8960622183333333",
         "1.9398035663530997",
         "26.803985583333333",
         "73.88753774999999",
         "0.10395049956"
        ],
        [
         "1",
         "100965.89083333332",
         "28.272828333333354",
         "0.1944363837916667",
         "-0.2147394811666666",
         "1.141201894145055",
         "25.138508916666662",
         "83.93715341666667",
         "0.00143051146"
        ],
        [
         "2",
         "101071.94791666669",
         "28.27306666666669",
         "0.5586751546666667",
         "0.1707280437499999",
         "1.734704673272315",
         "26.27941875",
         "74.86358391666667",
         "0.1039504991"
        ],
        [
         "3",
         "101039.70291666668",
         "28.27330000000002",
         "0.8084119208333332",
         "-2.010219578333333",
         "2.62252405218047",
         "25.128417916666667",
         "84.04039358333334",
         "0.0"
        ],
        [
         "4",
         "101117.80208333331",
         "28.27353333333335",
         "0.7170906058333334",
         "0.7126223141666667",
         "2.1361534046890327",
         "26.743072583333333",
         "72.33074641666667",
         "0.0"
        ]
       ],
       "shape": {
        "columns": 8,
        "rows": 5
       }
      },
      "text/html": [
       "<div>\n",
       "<style scoped>\n",
       "    .dataframe tbody tr th:only-of-type {\n",
       "        vertical-align: middle;\n",
       "    }\n",
       "\n",
       "    .dataframe tbody tr th {\n",
       "        vertical-align: top;\n",
       "    }\n",
       "\n",
       "    .dataframe thead th {\n",
       "        text-align: right;\n",
       "    }\n",
       "</style>\n",
       "<table border=\"1\" class=\"dataframe\">\n",
       "  <thead>\n",
       "    <tr style=\"text-align: right;\">\n",
       "      <th></th>\n",
       "      <th>msl</th>\n",
       "      <th>sst</th>\n",
       "      <th>u10</th>\n",
       "      <th>v10</th>\n",
       "      <th>ws</th>\n",
       "      <th>t2m</th>\n",
       "      <th>rh</th>\n",
       "      <th>tp</th>\n",
       "    </tr>\n",
       "  </thead>\n",
       "  <tbody>\n",
       "    <tr>\n",
       "      <th>0</th>\n",
       "      <td>101039.109583</td>\n",
       "      <td>28.272592</td>\n",
       "      <td>1.037604</td>\n",
       "      <td>0.896062</td>\n",
       "      <td>1.939804</td>\n",
       "      <td>26.803986</td>\n",
       "      <td>73.887538</td>\n",
       "      <td>0.103950</td>\n",
       "    </tr>\n",
       "    <tr>\n",
       "      <th>1</th>\n",
       "      <td>100965.890833</td>\n",
       "      <td>28.272828</td>\n",
       "      <td>0.194436</td>\n",
       "      <td>-0.214739</td>\n",
       "      <td>1.141202</td>\n",
       "      <td>25.138509</td>\n",
       "      <td>83.937153</td>\n",
       "      <td>0.001431</td>\n",
       "    </tr>\n",
       "    <tr>\n",
       "      <th>2</th>\n",
       "      <td>101071.947917</td>\n",
       "      <td>28.273067</td>\n",
       "      <td>0.558675</td>\n",
       "      <td>0.170728</td>\n",
       "      <td>1.734705</td>\n",
       "      <td>26.279419</td>\n",
       "      <td>74.863584</td>\n",
       "      <td>0.103950</td>\n",
       "    </tr>\n",
       "    <tr>\n",
       "      <th>3</th>\n",
       "      <td>101039.702917</td>\n",
       "      <td>28.273300</td>\n",
       "      <td>0.808412</td>\n",
       "      <td>-2.010220</td>\n",
       "      <td>2.622524</td>\n",
       "      <td>25.128418</td>\n",
       "      <td>84.040394</td>\n",
       "      <td>0.000000</td>\n",
       "    </tr>\n",
       "    <tr>\n",
       "      <th>4</th>\n",
       "      <td>101117.802083</td>\n",
       "      <td>28.273533</td>\n",
       "      <td>0.717091</td>\n",
       "      <td>0.712622</td>\n",
       "      <td>2.136153</td>\n",
       "      <td>26.743073</td>\n",
       "      <td>72.330746</td>\n",
       "      <td>0.000000</td>\n",
       "    </tr>\n",
       "  </tbody>\n",
       "</table>\n",
       "</div>"
      ],
      "text/plain": [
       "             msl        sst       u10       v10        ws        t2m  \\\n",
       "0  101039.109583  28.272592  1.037604  0.896062  1.939804  26.803986   \n",
       "1  100965.890833  28.272828  0.194436 -0.214739  1.141202  25.138509   \n",
       "2  101071.947917  28.273067  0.558675  0.170728  1.734705  26.279419   \n",
       "3  101039.702917  28.273300  0.808412 -2.010220  2.622524  25.128418   \n",
       "4  101117.802083  28.273533  0.717091  0.712622  2.136153  26.743073   \n",
       "\n",
       "          rh        tp  \n",
       "0  73.887538  0.103950  \n",
       "1  83.937153  0.001431  \n",
       "2  74.863584  0.103950  \n",
       "3  84.040394  0.000000  \n",
       "4  72.330746  0.000000  "
      ]
     },
     "execution_count": 25,
     "metadata": {},
     "output_type": "execute_result"
    }
   ],
   "source": [
    "df = pd.read_csv(\"../data/weather.csv\") \n",
    "df.head()"
   ]
  },
  {
   "cell_type": "markdown",
   "id": "95a07b09",
   "metadata": {},
   "source": [
    "**Overview of the Dataset**"
   ]
  },
  {
   "cell_type": "code",
   "execution_count": 26,
   "id": "6463505d",
   "metadata": {},
   "outputs": [
    {
     "name": "stdout",
     "output_type": "stream",
     "text": [
      "<class 'pandas.core.frame.DataFrame'>\n",
      "RangeIndex: 14610 entries, 0 to 14609\n",
      "Data columns (total 8 columns):\n",
      " #   Column  Non-Null Count  Dtype  \n",
      "---  ------  --------------  -----  \n",
      " 0   msl     14610 non-null  float64\n",
      " 1   sst     14610 non-null  float64\n",
      " 2   u10     14610 non-null  float64\n",
      " 3   v10     14610 non-null  float64\n",
      " 4   ws      14610 non-null  float64\n",
      " 5   t2m     14610 non-null  float64\n",
      " 6   rh      14610 non-null  float64\n",
      " 7   tp      14610 non-null  float64\n",
      "dtypes: float64(8)\n",
      "memory usage: 913.3 KB\n"
     ]
    }
   ],
   "source": [
    "df.info()"
   ]
  },
  {
   "cell_type": "markdown",
   "id": "2641a6bc",
   "metadata": {},
   "source": [
    "**Statistical Summary**"
   ]
  },
  {
   "cell_type": "code",
   "execution_count": 27,
   "id": "e623563f",
   "metadata": {},
   "outputs": [
    {
     "data": {
      "application/vnd.microsoft.datawrangler.viewer.v0+json": {
       "columns": [
        {
         "name": "index",
         "rawType": "object",
         "type": "string"
        },
        {
         "name": "msl",
         "rawType": "float64",
         "type": "float"
        },
        {
         "name": "sst",
         "rawType": "float64",
         "type": "float"
        },
        {
         "name": "u10",
         "rawType": "float64",
         "type": "float"
        },
        {
         "name": "v10",
         "rawType": "float64",
         "type": "float"
        },
        {
         "name": "ws",
         "rawType": "float64",
         "type": "float"
        },
        {
         "name": "t2m",
         "rawType": "float64",
         "type": "float"
        },
        {
         "name": "rh",
         "rawType": "float64",
         "type": "float"
        },
        {
         "name": "tp",
         "rawType": "float64",
         "type": "float"
        }
       ],
       "ref": "eabb6b64-92e3-475f-9c6e-bcbe46be2b03",
       "rows": [
        [
         "count",
         "14610.0",
         "14610.0",
         "14610.0",
         "14610.0",
         "14610.0",
         "14610.0",
         "14610.0",
         "14610.0"
        ],
        [
         "mean",
         "100985.07908378965",
         "28.42204936168152",
         "1.3796119873290458",
         "-0.45134096261441004",
         "2.688490978411134",
         "27.000179561299337",
         "80.55884932607803",
         "3.8194658983770675"
        ],
        [
         "std",
         "185.15704714033606",
         "0.36853313609512606",
         "1.4130570780194922",
         "1.5318521119201012",
         "1.0303276510573227",
         "1.3969657997068123",
         "9.5511158900143",
         "7.305492022249061"
        ],
        [
         "min",
         "99929.51583333332",
         "27.233626666666705",
         "-4.472890266666666",
         "-5.59268695",
         "0.4343141537500312",
         "23.50974533333333",
         "35.90133325",
         "0.0"
        ],
        [
         "25%",
         "100860.68770833334",
         "28.152727916666684",
         "0.4712661080833333",
         "-1.4822324167708334",
         "1.9727836290241116",
         "25.882952375",
         "75.11489279166666",
         "0.00095367432"
        ],
        [
         "50%",
         "100986.85875",
         "28.373904583333356",
         "1.2733567520833333",
         "-0.5315799766666667",
         "2.4997949070417165",
         "26.82277425",
         "82.27371075",
         "0.71501732673"
        ],
        [
         "75%",
         "101113.77427083331",
         "28.708128125000016",
         "2.139927880833333",
         "0.44984246166666664",
         "3.2198617627081765",
         "28.0465595625",
         "88.50587089583334",
         "4.554390937"
        ],
        [
         "max",
         "101641.32875",
         "29.422016666666696",
         "8.540369625",
         "8.158190433333333",
         "8.786980104192208",
         "31.83111583333333",
         "94.47684716666669",
         "128.65209618"
        ]
       ],
       "shape": {
        "columns": 8,
        "rows": 8
       }
      },
      "text/html": [
       "<div>\n",
       "<style scoped>\n",
       "    .dataframe tbody tr th:only-of-type {\n",
       "        vertical-align: middle;\n",
       "    }\n",
       "\n",
       "    .dataframe tbody tr th {\n",
       "        vertical-align: top;\n",
       "    }\n",
       "\n",
       "    .dataframe thead th {\n",
       "        text-align: right;\n",
       "    }\n",
       "</style>\n",
       "<table border=\"1\" class=\"dataframe\">\n",
       "  <thead>\n",
       "    <tr style=\"text-align: right;\">\n",
       "      <th></th>\n",
       "      <th>msl</th>\n",
       "      <th>sst</th>\n",
       "      <th>u10</th>\n",
       "      <th>v10</th>\n",
       "      <th>ws</th>\n",
       "      <th>t2m</th>\n",
       "      <th>rh</th>\n",
       "      <th>tp</th>\n",
       "    </tr>\n",
       "  </thead>\n",
       "  <tbody>\n",
       "    <tr>\n",
       "      <th>count</th>\n",
       "      <td>14610.000000</td>\n",
       "      <td>14610.000000</td>\n",
       "      <td>14610.000000</td>\n",
       "      <td>14610.000000</td>\n",
       "      <td>14610.000000</td>\n",
       "      <td>14610.000000</td>\n",
       "      <td>14610.000000</td>\n",
       "      <td>14610.000000</td>\n",
       "    </tr>\n",
       "    <tr>\n",
       "      <th>mean</th>\n",
       "      <td>100985.079084</td>\n",
       "      <td>28.422049</td>\n",
       "      <td>1.379612</td>\n",
       "      <td>-0.451341</td>\n",
       "      <td>2.688491</td>\n",
       "      <td>27.000180</td>\n",
       "      <td>80.558849</td>\n",
       "      <td>3.819466</td>\n",
       "    </tr>\n",
       "    <tr>\n",
       "      <th>std</th>\n",
       "      <td>185.157047</td>\n",
       "      <td>0.368533</td>\n",
       "      <td>1.413057</td>\n",
       "      <td>1.531852</td>\n",
       "      <td>1.030328</td>\n",
       "      <td>1.396966</td>\n",
       "      <td>9.551116</td>\n",
       "      <td>7.305492</td>\n",
       "    </tr>\n",
       "    <tr>\n",
       "      <th>min</th>\n",
       "      <td>99929.515833</td>\n",
       "      <td>27.233627</td>\n",
       "      <td>-4.472890</td>\n",
       "      <td>-5.592687</td>\n",
       "      <td>0.434314</td>\n",
       "      <td>23.509745</td>\n",
       "      <td>35.901333</td>\n",
       "      <td>0.000000</td>\n",
       "    </tr>\n",
       "    <tr>\n",
       "      <th>25%</th>\n",
       "      <td>100860.687708</td>\n",
       "      <td>28.152728</td>\n",
       "      <td>0.471266</td>\n",
       "      <td>-1.482232</td>\n",
       "      <td>1.972784</td>\n",
       "      <td>25.882952</td>\n",
       "      <td>75.114893</td>\n",
       "      <td>0.000954</td>\n",
       "    </tr>\n",
       "    <tr>\n",
       "      <th>50%</th>\n",
       "      <td>100986.858750</td>\n",
       "      <td>28.373905</td>\n",
       "      <td>1.273357</td>\n",
       "      <td>-0.531580</td>\n",
       "      <td>2.499795</td>\n",
       "      <td>26.822774</td>\n",
       "      <td>82.273711</td>\n",
       "      <td>0.715017</td>\n",
       "    </tr>\n",
       "    <tr>\n",
       "      <th>75%</th>\n",
       "      <td>101113.774271</td>\n",
       "      <td>28.708128</td>\n",
       "      <td>2.139928</td>\n",
       "      <td>0.449842</td>\n",
       "      <td>3.219862</td>\n",
       "      <td>28.046560</td>\n",
       "      <td>88.505871</td>\n",
       "      <td>4.554391</td>\n",
       "    </tr>\n",
       "    <tr>\n",
       "      <th>max</th>\n",
       "      <td>101641.328750</td>\n",
       "      <td>29.422017</td>\n",
       "      <td>8.540370</td>\n",
       "      <td>8.158190</td>\n",
       "      <td>8.786980</td>\n",
       "      <td>31.831116</td>\n",
       "      <td>94.476847</td>\n",
       "      <td>128.652096</td>\n",
       "    </tr>\n",
       "  </tbody>\n",
       "</table>\n",
       "</div>"
      ],
      "text/plain": [
       "                 msl           sst           u10           v10            ws  \\\n",
       "count   14610.000000  14610.000000  14610.000000  14610.000000  14610.000000   \n",
       "mean   100985.079084     28.422049      1.379612     -0.451341      2.688491   \n",
       "std       185.157047      0.368533      1.413057      1.531852      1.030328   \n",
       "min     99929.515833     27.233627     -4.472890     -5.592687      0.434314   \n",
       "25%    100860.687708     28.152728      0.471266     -1.482232      1.972784   \n",
       "50%    100986.858750     28.373905      1.273357     -0.531580      2.499795   \n",
       "75%    101113.774271     28.708128      2.139928      0.449842      3.219862   \n",
       "max    101641.328750     29.422017      8.540370      8.158190      8.786980   \n",
       "\n",
       "                t2m            rh            tp  \n",
       "count  14610.000000  14610.000000  14610.000000  \n",
       "mean      27.000180     80.558849      3.819466  \n",
       "std        1.396966      9.551116      7.305492  \n",
       "min       23.509745     35.901333      0.000000  \n",
       "25%       25.882952     75.114893      0.000954  \n",
       "50%       26.822774     82.273711      0.715017  \n",
       "75%       28.046560     88.505871      4.554391  \n",
       "max       31.831116     94.476847    128.652096  "
      ]
     },
     "execution_count": 27,
     "metadata": {},
     "output_type": "execute_result"
    }
   ],
   "source": [
    "df.describe()"
   ]
  },
  {
   "cell_type": "markdown",
   "id": "14c81852",
   "metadata": {},
   "source": [
    "Columns"
   ]
  },
  {
   "cell_type": "code",
   "execution_count": 28,
   "id": "fae510f3",
   "metadata": {},
   "outputs": [
    {
     "data": {
      "text/plain": [
       "Index(['msl', 'sst', 'u10', 'v10', 'ws', 't2m', 'rh', 'tp'], dtype='object')"
      ]
     },
     "execution_count": 28,
     "metadata": {},
     "output_type": "execute_result"
    }
   ],
   "source": [
    "df.columns"
   ]
  },
  {
   "cell_type": "markdown",
   "id": "b2bca544",
   "metadata": {},
   "source": [
    "**Taking any one column**"
   ]
  },
  {
   "cell_type": "code",
   "execution_count": 29,
   "id": "3aabaef1",
   "metadata": {},
   "outputs": [
    {
     "data": {
      "application/vnd.microsoft.datawrangler.viewer.v0+json": {
       "columns": [
        {
         "name": "index",
         "rawType": "int64",
         "type": "integer"
        },
        {
         "name": "msl",
         "rawType": "float64",
         "type": "float"
        }
       ],
       "ref": "0cf67236-b655-4db9-be6a-d51b964386b4",
       "rows": [
        [
         "0",
         "101039.10958333332"
        ],
        [
         "1",
         "100965.89083333332"
        ],
        [
         "2",
         "101071.94791666669"
        ],
        [
         "3",
         "101039.70291666668"
        ],
        [
         "4",
         "101117.80208333331"
        ],
        [
         "5",
         "101031.52625"
        ],
        [
         "6",
         "101096.51041666669"
        ],
        [
         "7",
         "101090.51041666669"
        ],
        [
         "8",
         "101065.36958333332"
        ],
        [
         "9",
         "101110.89041666668"
        ],
        [
         "10",
         "101141.64083333332"
        ],
        [
         "11",
         "101055.8175"
        ],
        [
         "12",
         "101068.40625"
        ],
        [
         "13",
         "100937.02625"
        ],
        [
         "14",
         "100980.18208333332"
        ],
        [
         "15",
         "100947.39083333332"
        ],
        [
         "16",
         "101078.01083333332"
        ],
        [
         "17",
         "101118.14166666666"
        ],
        [
         "18",
         "101132.92666666668"
        ],
        [
         "19",
         "101015.33916666669"
        ],
        [
         "20",
         "101066.25541666668"
        ],
        [
         "21",
         "100915.3275"
        ],
        [
         "22",
         "101043.4375"
        ],
        [
         "23",
         "101058.22958333332"
        ],
        [
         "24",
         "101083.01"
        ],
        [
         "25",
         "101050.75416666668"
        ],
        [
         "26",
         "101115.19208333331"
        ],
        [
         "27",
         "101091.57916666666"
        ],
        [
         "28",
         "101206.5575"
        ],
        [
         "29",
         "101170.40625"
        ],
        [
         "30",
         "101153.85416666669"
        ],
        [
         "31",
         "101182.73416666668"
        ],
        [
         "32",
         "101166.11958333332"
        ],
        [
         "33",
         "101148.875"
        ],
        [
         "34",
         "101193.0625"
        ],
        [
         "35",
         "101111.77041666668"
        ],
        [
         "36",
         "101059.08958333332"
        ],
        [
         "37",
         "101065.98541666666"
        ],
        [
         "38",
         "101055.72375"
        ],
        [
         "39",
         "100986.60916666668"
        ],
        [
         "40",
         "100959.53125"
        ],
        [
         "41",
         "100945.40625"
        ],
        [
         "42",
         "100945.83875"
        ],
        [
         "43",
         "100904.65625"
        ],
        [
         "44",
         "100915.71333333332"
        ],
        [
         "45",
         "100851.69791666669"
        ],
        [
         "46",
         "100874.21333333332"
        ],
        [
         "47",
         "100930.72375"
        ],
        [
         "48",
         "100993.45833333331"
        ],
        [
         "49",
         "100860.33333333331"
        ]
       ],
       "shape": {
        "columns": 1,
        "rows": 14610
       }
      },
      "text/plain": [
       "0        101039.109583\n",
       "1        100965.890833\n",
       "2        101071.947917\n",
       "3        101039.702917\n",
       "4        101117.802083\n",
       "             ...      \n",
       "14605    100973.963333\n",
       "14606    100937.531250\n",
       "14607    100930.057083\n",
       "14608    101036.900417\n",
       "14609    101035.006250\n",
       "Name: msl, Length: 14610, dtype: float64"
      ]
     },
     "execution_count": 29,
     "metadata": {},
     "output_type": "execute_result"
    }
   ],
   "source": [
    "df['msl']"
   ]
  },
  {
   "cell_type": "code",
   "execution_count": 30,
   "id": "4301364b",
   "metadata": {},
   "outputs": [
    {
     "data": {
      "application/vnd.microsoft.datawrangler.viewer.v0+json": {
       "columns": [
        {
         "name": "index",
         "rawType": "object",
         "type": "string"
        },
        {
         "name": "0",
         "rawType": "int64",
         "type": "integer"
        }
       ],
       "ref": "7a4594f1-7b2d-4467-a6c3-aeef14bb9a1c",
       "rows": [
        [
         "msl",
         "0"
        ],
        [
         "sst",
         "0"
        ],
        [
         "u10",
         "0"
        ],
        [
         "v10",
         "0"
        ],
        [
         "ws",
         "0"
        ],
        [
         "t2m",
         "0"
        ],
        [
         "rh",
         "0"
        ],
        [
         "tp",
         "0"
        ]
       ],
       "shape": {
        "columns": 1,
        "rows": 8
       }
      },
      "text/plain": [
       "msl    0\n",
       "sst    0\n",
       "u10    0\n",
       "v10    0\n",
       "ws     0\n",
       "t2m    0\n",
       "rh     0\n",
       "tp     0\n",
       "dtype: int64"
      ]
     },
     "execution_count": 30,
     "metadata": {},
     "output_type": "execute_result"
    }
   ],
   "source": [
    "df.isnull().sum()"
   ]
  },
  {
   "cell_type": "markdown",
   "id": "0209cfd6",
   "metadata": {},
   "source": [
    "# Exploratory Data Analysis"
   ]
  },
  {
   "cell_type": "markdown",
   "id": "c82d86d3",
   "metadata": {},
   "source": [
    "### Histograms\n",
    "Here the histograms shows how often the value has appeared in each column\n",
    "\n",
    "Pandas Histogram: https://pandas.pydata.org/docs/reference/api/pandas.DataFrame.hist.html\n",
    "\n",
    "Some new functions:\n",
    "\n",
    "tight_layout: This adjusts the graph such that they do not overlap. Link: https://matplotlib.org/stable/api/_as_gen/matplotlib.pyplot.tight_layout.html\n"
   ]
  },
  {
   "cell_type": "code",
   "execution_count": 31,
   "id": "eed38932",
   "metadata": {},
   "outputs": [
    {
     "data": {
      "text/plain": [
       "<Figure size 1200x1000 with 0 Axes>"
      ]
     },
     "metadata": {},
     "output_type": "display_data"
    },
    {
     "data": {
      "image/png": "[encoded data removed]",
      "text/plain": [
       "<Figure size 1200x1000 with 9 Axes>"
      ]
     },
     "metadata": {},
     "output_type": "display_data"
    }
   ],
   "source": [
    "plt.figure(figsize=(12,10))\n",
    "df.hist(figsize=(12,10), bins=30)\n",
    "plt.tight_layout()\n",
    "plt.savefig('../reports/graphs/histograms.png', dpi=300)\n",
    "plt.show()"
   ]
  },
  {
   "cell_type": "markdown",
   "id": "795295dd",
   "metadata": {},
   "source": [
    "### BoxPlots\n",
    "\n",
    "A box plot (or box-and-whisker plot) shows the distribution of quantitative data in a way that facilitates comparisons between variables or across levels of a categorical variable. The box shows the quartiles of the dataset while the whiskers extend to show the rest of the distribution, except for points that are determined to be “outliers” using a method that is a function of the inter-quartile range.\n",
    "\n",
    "Link: https://seaborn.pydata.org/generated/seaborn.boxplot.html"
   ]
  },
  {
   "cell_type": "code",
   "execution_count": 33,
   "id": "25113095",
   "metadata": {},
   "outputs": [],
   "source": [
    "for col in df.columns:\n",
    "    plt.figure(figsize=(8,2))\n",
    "    sns.boxplot(x=df[col])\n",
    "    plt.title(f\"Boxplot: {col}\")\n",
    "    filename = f'../reports/graphs/boxplot_{col}.png'\n",
    "    plt.savefig(filename, dpi=300, bbox_inches='tight')\n",
    "    plt.close()"
   ]
  },
  {
   "cell_type": "code",
   "execution_count": null,
   "id": "5f50ea1e",
   "metadata": {},
   "outputs": [],
   "source": []
  }
 ],
 "metadata": {
  "kernelspec": {
   "display_name": "Python 3",
   "language": "python",
   "name": "python3"
  },
  "language_info": {
   "codemirror_mode": {
    "name": "ipython",
    "version": 3
   },
   "file_extension": ".py",
   "mimetype": "text/x-python",
   "name": "python",
   "nbconvert_exporter": "python",
   "pygments_lexer": "ipython3",
   "version": "3.11.9"
  }
 },
 "nbformat": 4,
 "nbformat_minor": 5
}
